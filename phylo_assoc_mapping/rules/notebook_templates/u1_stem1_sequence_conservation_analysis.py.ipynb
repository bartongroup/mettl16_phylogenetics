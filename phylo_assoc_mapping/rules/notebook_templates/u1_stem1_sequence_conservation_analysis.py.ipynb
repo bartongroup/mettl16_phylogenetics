{
 "cells": [
  {
   "cell_type": "code",
   "execution_count": 1,
   "metadata": {
    "tags": [
     "snakemake-job-properties"
    ]
   },
   "outputs": [],
   "source": [
    "\n",
    "######## snakemake preamble start (automatically inserted, do not edit) ########\n",
    "import sys; sys.path.extend(['/cluster/ggs_lab/mtparker/.conda/envs/snakemake6/lib/python3.10/site-packages', '/cluster/ggs_lab/mtparker/papers/splice_site_phylogenetics/phylo_assoc_mapping/rules/notebook_templates']); import pickle; snakemake = pickle.loads(b'\\x80\\x04\\x95@i\\x00\\x00\\x00\\x00\\x00\\x00\\x8c\\x10snakemake.script\\x94\\x8c\\tSnakemake\\x94\\x93\\x94)\\x81\\x94}\\x94(\\x8c\\x05input\\x94\\x8c\\x0csnakemake.io\\x94\\x8c\\nInputFiles\\x94\\x93\\x94)\\x81\\x94(\\x8c8cm_hits/Hanseniaspora_guilliermondii.u1_stem1_hits.fasta\\x94\\x8c/cm_hits/Yarrowia_lipolytica.u1_stem1_hits.fasta\\x94\\x8c5cm_hits/Wickerhamiella_versatilis.u1_stem1_hits.fasta\\x94\\x8c6cm_hits/Nakaseomyces_bacillisporus.u1_stem1_hits.fasta\\x94\\x8c5cm_hits/Saccharomyces_pastorianus.u1_stem1_hits.fasta\\x94\\x8c1cm_hits/Wickerhamomyces_bovis.u1_stem1_hits.fasta\\x94\\x8c-cm_hits/Candida_tropcalis.u1_stem1_hits.fasta\\x94\\x8c0cm_hits/Candida_metapsilosis.u1_stem1_hits.fasta\\x94\\x8c-cm_hits/Yamadazyma_tenuis.u1_stem1_hits.fasta\\x94\\x8c,cm_hits/Pichia_terricola.u1_stem1_hits.fasta\\x94\\x8c0cm_hits/Hyphopichia_burtonii.u1_stem1_hits.fasta\\x94\\x8c5cm_hits/Metschnikowia_bicuspidata.u1_stem1_hits.fasta\\x94\\x8c4cm_hits/Metschnikowia_spJCM33374.u1_stem1_hits.fasta\\x94\\x8c2cm_hits/Zygotorulaspora_mrakii.u1_stem1_hits.fasta\\x94\\x8c)cm_hits/Candida_auris.u1_stem1_hits.fasta\\x94\\x8c5cm_hits/Schizosaccharomyces_pombe.u1_stem1_hits.fasta\\x94\\x8c2cm_hits/Alloascoidea_hylecoeti.u1_stem1_hits.fasta\\x94\\x8c2cm_hits/Tetrapisispora_blattae.u1_stem1_hits.fasta\\x94\\x8c1cm_hits/Kregervanrija_fluxuum.u1_stem1_hits.fasta\\x94\\x8c0cm_hits/Lipomyces_oligophaga.u1_stem1_hits.fasta\\x94\\x8c/cm_hits/Nadsonia_fulvescens.u1_stem1_hits.fasta\\x94\\x8c2cm_hits/Pichia_membranifaciens.u1_stem1_hits.fasta\\x94\\x8c,cm_hits/Candida_gorgasii.u1_stem1_hits.fasta\\x94\\x8c1cm_hits/Teunomyces_gatunensis.u1_stem1_hits.fasta\\x94\\x8c2cm_hits/Barnettozyma_salicaria.u1_stem1_hits.fasta\\x94\\x8c3cm_hits/Saccharomycodes_ludwigi.u1_stem1_hits.fasta\\x94\\x8c.cm_hits/Dipodascus_albidus.u1_stem1_hits.fasta\\x94\\x8c3cm_hits/Kazachstania_naganishii.u1_stem1_hits.fasta\\x94\\x8c0cm_hits/Millerozyma_farinosa.u1_stem1_hits.fasta\\x94\\x8c4cm_hits/Kregervanrija_delftensis.u1_stem1_hits.fasta\\x94\\x8c6cm_hits/Brettanomyces_naardenensis.u1_stem1_hits.fasta\\x94\\x8c/cm_hits/Suhomyces_pyralidae.u1_stem1_hits.fasta\\x94\\x8c7cm_hits/Saccharomycopsis_fibuligera.u1_stem1_hits.fasta\\x94\\x8c/cm_hits/Debaryomyces_fabryi.u1_stem1_hits.fasta\\x94\\x8c,cm_hits/Meyerozyma_spJA9.u1_stem1_hits.fasta\\x94\\x8c/cm_hits/Candida_inconspicua.u1_stem1_hits.fasta\\x94\\x8c9cm_hits/Diddensiella_caesifluorescens.u1_stem1_hits.fasta\\x94\\x8c4cm_hits/Tortispora_caseinolytica.u1_stem1_hits.fasta\\x94\\x8c*cm_hits/Ogataea_minuta.u1_stem1_hits.fasta\\x94\\x8c,cm_hits/Candida_jaroonii.u1_stem1_hits.fasta\\x94\\x8c5cm_hits/Metschnikowia_pulcherrima.u1_stem1_hits.fasta\\x94\\x8c/cm_hits/Millerozyma_acaciae.u1_stem1_hits.fasta\\x94\\x8c/cm_hits/Tortispora_starmeri.u1_stem1_hits.fasta\\x94\\x8c2cm_hits/Hanseniaspora_opuntiae.u1_stem1_hits.fasta\\x94\\x8c.cm_hits/Ascoidea_rubescens.u1_stem1_hits.fasta\\x94\\x8c0cm_hits/Candida_dubliniensis.u1_stem1_hits.fasta\\x94\\x8c3cm_hits/Torulaspora_delbrueckii.u1_stem1_hits.fasta\\x94\\x8c3cm_hits/Wickerhamia_fluorescens.u1_stem1_hits.fasta\\x94\\x8c1cm_hits/Cyberlindnera_jadinii.u1_stem1_hits.fasta\\x94\\x8c2cm_hits/Caenorhabditis_elegans.u1_stem1_hits.fasta\\x94\\x8c0cm_hits/Phaffomyces_opuntiae.u1_stem1_hits.fasta\\x94\\x8c.cm_hits/Ogataea_polymorpha.u1_stem1_hits.fasta\\x94\\x8c/cm_hits/Brettanomyces_nanus.u1_stem1_hits.fasta\\x94\\x8c5cm_hits/Wickerhamiella_sorbophila.u1_stem1_hits.fasta\\x94\\x8c5cm_hits/Lodderomyces_elongesporus.u1_stem1_hits.fasta\\x94\\x8c+cm_hits/Ogataea_zsoltii.u1_stem1_hits.fasta\\x94\\x8c1cm_hits/Candida_orthopsilosis.u1_stem1_hits.fasta\\x94\\x8c.cm_hits/Diutina_catenulata.u1_stem1_hits.fasta\\x94\\x8c6cm_hits/Magnusiomyces_tetraspermus.u1_stem1_hits.fasta\\x94\\x8c4cm_hits/Wickerhamomyces_anomalus.u1_stem1_hits.fasta\\x94\\x8c4cm_hits/Wickerhamomyces_ciferrii.u1_stem1_hits.fasta\\x94\\x8c/cm_hits/Starmerella_apicola.u1_stem1_hits.fasta\\x94\\x8c-cm_hits/Pichia_manshurica.u1_stem1_hits.fasta\\x94\\x8c-cm_hits/Candida_subhashii.u1_stem1_hits.fasta\\x94\\x8c3cm_hits/Saccharomyces_eubayanus.u1_stem1_hits.fasta\\x94\\x8c.cm_hits/Kodamaea_laetipori.u1_stem1_hits.fasta\\x94\\x8c0cm_hits/Candida_jiufengensis.u1_stem1_hits.fasta\\x94\\x8c4cm_hits/Zygosaccharomyces_rouxii.u1_stem1_hits.fasta\\x94\\x8c.cm_hits/Saprochaete_ingens.u1_stem1_hits.fasta\\x94\\x8c4cm_hits/Spathaspora_passalidarum.u1_stem1_hits.fasta\\x94\\x8c.cm_hits/Yamadazyma_scolyti.u1_stem1_hits.fasta\\x94\\x8c1cm_hits/Clavispora_lusitaniae.u1_stem1_hits.fasta\\x94\\x8c.cm_hits/Lipomyces_starkeyi.u1_stem1_hits.fasta\\x94\\x8c-cm_hits/Zygoascus_meyerae.u1_stem1_hits.fasta\\x94\\x8c.cm_hits/Pichia_norvegensis.u1_stem1_hits.fasta\\x94\\x8c/cm_hits/Ogataea_ramenticola.u1_stem1_hits.fasta\\x94\\x8c.cm_hits/Lachancea_meyersii.u1_stem1_hits.fasta\\x94\\x8c0cm_hits/Wickerhamomyces_alni.u1_stem1_hits.fasta\\x94\\x8c/cm_hits/Candida_oxycetoniae.u1_stem1_hits.fasta\\x94\\x8c4cm_hits/Wickerhamiella_cacticola.u1_stem1_hits.fasta\\x94\\x8c4cm_hits/Barnettozyma_californica.u1_stem1_hits.fasta\\x94\\x8c3cm_hits/Komagataella_kurtzmanii.u1_stem1_hits.fasta\\x94\\x8c2cm_hits/Trigonopsis_variabilis.u1_stem1_hits.fasta\\x94\\x8c1cm_hits/Deakozyma_indianensis.u1_stem1_hits.fasta\\x94\\x8c/cm_hits/Lipomyces_japonicus.u1_stem1_hits.fasta\\x94\\x8c0cm_hits/Fusarium_graminearum.u1_stem1_hits.fasta\\x94\\x8c0cm_hits/Debaryomyces_maramus.u1_stem1_hits.fasta\\x94\\x8c3cm_hits/Ambrosiozyma_philentoma.u1_stem1_hits.fasta\\x94\\x8c4cm_hits/Scheffersomyces_stipitis.u1_stem1_hits.fasta\\x94\\x8c.cm_hits/Nakazawaea_peltata.u1_stem1_hits.fasta\\x94\\x8c2cm_hits/Pneumocystis_jirovecii.u1_stem1_hits.fasta\\x94\\x8c8cm_hits/Saturnispora_serradocipensis.u1_stem1_hits.fasta\\x94\\x8c5cm_hits/Grigorovia_transvaalensis.u1_stem1_hits.fasta\\x94\\x8c4cm_hits/Botryozyma_nematodophila.u1_stem1_hits.fasta\\x94\\x8c4cm_hits/Kazachstania_saulgeensis.u1_stem1_hits.fasta\\x94\\x8c3cm_hits/Wickerhamomyces_mucosus.u1_stem1_hits.fasta\\x94\\x8c1cm_hits/Priceomyces_castillae.u1_stem1_hits.fasta\\x94\\x8c1cm_hits/Torulaspora_spCBS2947.u1_stem1_hits.fasta\\x94\\x8c8cm_hits/Spencermartinsiella_europaea.u1_stem1_hits.fasta\\x94\\x8c4cm_hits/Danielozyma_ontarioensis.u1_stem1_hits.fasta\\x94\\x8c0cm_hits/Priceomyces_carsonii.u1_stem1_hits.fasta\\x94\\x8c0cm_hits/Meyerozyma_caribbica.u1_stem1_hits.fasta\\x94\\x8c7cm_hits/Saccharomycopsis_fermentans.u1_stem1_hits.fasta\\x94\\x8c2cm_hits/Blastobotrys_muscicola.u1_stem1_hits.fasta\\x94\\x8c2cm_hits/Trichomonascus_ciferii.u1_stem1_hits.fasta\\x94\\x8c0cm_hits/Yamadazyma_philogaea.u1_stem1_hits.fasta\\x94\\x8c.cm_hits/Nakazawaea_holstii.u1_stem1_hits.fasta\\x94\\x8c(cm_hits/Homo_sapiens.u1_stem1_hits.fasta\\x94\\x8c-cm_hits/Spathaspora_spJA1.u1_stem1_hits.fasta\\x94\\x8c3cm_hits/Hanseniaspora_osmophila.u1_stem1_hits.fasta\\x94\\x8c+cm_hits/Ustilago_maydis.u1_stem1_hits.fasta\\x94\\x8c2cm_hits/Blastobotrys_mokoenaii.u1_stem1_hits.fasta\\x94\\x8c4cm_hits/Candida_duobushaemulonis.u1_stem1_hits.fasta\\x94\\x8c/cm_hits/Kurtzmaniella_fragi.u1_stem1_hits.fasta\\x94\\x8c/cm_hits/Saturnispora_silvae.u1_stem1_hits.fasta\\x94\\x8c2cm_hits/Cyberlindnera_fabianii.u1_stem1_hits.fasta\\x94\\x8c.cm_hits/Candida_intermedia.u1_stem1_hits.fasta\\x94\\x8c.cm_hits/Priceomyces_medius.u1_stem1_hits.fasta\\x94\\x8c/cm_hits/Candida_californica.u1_stem1_hits.fasta\\x94\\x8c2cm_hits/Crytococcus_neoformans.u1_stem1_hits.fasta\\x94\\x8c.cm_hits/Yueomyces_sinensis.u1_stem1_hits.fasta\\x94\\x8c/cm_hits/Kazachstania_exigua.u1_stem1_hits.fasta\\x94\\x8c8cm_hits/Zygosaccharomyces_parabailii.u1_stem1_hits.fasta\\x94\\x8c5cm_hits/Kluyveromyces_dobzhanskii.u1_stem1_hits.fasta\\x94\\x8c0cm_hits/Dekkera_bruxellensis.u1_stem1_hits.fasta\\x94\\x8c*cm_hits/Diutina_rugosa.u1_stem1_hits.fasta\\x94\\x8c0cm_hits/Candida_hispaniensis.u1_stem1_hits.fasta\\x94\\x8c3cm_hits/Naumovozyma_dairenensis.u1_stem1_hits.fasta\\x94\\x8c8cm_hits/Sporopachydermia_lactativora.u1_stem1_hits.fasta\\x94\\x8c0cm_hits/Starmera_amethionina.u1_stem1_hits.fasta\\x94\\x8c+cm_hits/Yarrowia_bubula.u1_stem1_hits.fasta\\x94\\x8c1cm_hits/Kazachstania_unispora.u1_stem1_hits.fasta\\x94\\x8c<cm_hits/Ambrosiozyma_pseudovanderkliftii.u1_stem1_hits.fasta\\x94\\x8c(cm_hits/Ashbya_aceri.u1_stem1_hits.fasta\\x94\\x8c3cm_hits/Eremothecium_sinecaudum.u1_stem1_hits.fasta\\x94\\x8c2cm_hits/Saturnispora_mendoncae.u1_stem1_hits.fasta\\x94\\x8c,cm_hits/Candida_albicans.u1_stem1_hits.fasta\\x94\\x8c/cm_hits/Pichia_kudriavzevii.u1_stem1_hits.fasta\\x94\\x8c0cm_hits/Candida_parapsilosis.u1_stem1_hits.fasta\\x94\\x8c0cm_hits/Debaryomyces_hanseni.u1_stem1_hits.fasta\\x94\\x8c+cm_hits/Candida_maltosa.u1_stem1_hits.fasta\\x94\\x8c6cm_hits/Ambrosiozyma_kashinagicola.u1_stem1_hits.fasta\\x94\\x8c/cm_hits/Pichia_occidentalis.u1_stem1_hits.fasta\\x94\\x8c1cm_hits/Citeromyces_siamensis.u1_stem1_hits.fasta\\x94\\x8c,cm_hits/Candida_glabrata.u1_stem1_hits.fasta\\x94\\x8c*cm_hits/Pichia_nakasei.u1_stem1_hits.fasta\\x94\\x8c,cm_hits/Kuraishia_ogatae.u1_stem1_hits.fasta\\x94\\x8c0cm_hits/Komagataella_phaffii.u1_stem1_hits.fasta\\x94\\x8c/cm_hits/Trigonopsis_vinaria.u1_stem1_hits.fasta\\x94\\x8c0cm_hits/Cyberlindnera_mrakii.u1_stem1_hits.fasta\\x94\\x8c.cm_hits/Candida_ponderosae.u1_stem1_hits.fasta\\x94\\x8c0cm_hits/Aspergillus_nidulans.u1_stem1_hits.fasta\\x94\\x8c+cm_hits/Candida_montana.u1_stem1_hits.fasta\\x94\\x8c1cm_hits/Kazachstania_africana.u1_stem1_hits.fasta\\x94\\x8c/cm_hits/Lachancea_nothofagi.u1_stem1_hits.fasta\\x94\\x8c)cm_hits/Candida_theae.u1_stem1_hits.fasta\\x94\\x8c2cm_hits/Tetrapisispora_phaffii.u1_stem1_hits.fasta\\x94\\x8c-cm_hits/Starmera_quercuum.u1_stem1_hits.fasta\\x94\\x8c6cm_hits/Sugiyamaella_lignohabitans.u1_stem1_hits.fasta\\x94\\x8c.cm_hits/Teunomyces_kruisii.u1_stem1_hits.fasta\\x94\\x8c4cm_hits/Kurtzmaniella_cleridarum.u1_stem1_hits.fasta\\x94\\x8c3cm_hits/Magnusiomyces_capitatus.u1_stem1_hits.fasta\\x94\\x8c4cm_hits/Saccharomyces_cerevisiae.u1_stem1_hits.fasta\\x94\\x8c-cm_hits/Peterozyma_xylosa.u1_stem1_hits.fasta\\x94\\x8c0cm_hits/Saturnispora_dispora.u1_stem1_hits.fasta\\x94\\x8c.cm_hits/Ogataea_pilisensis.u1_stem1_hits.fasta\\x94\\x8c/cm_hits/Kuraishia_capsulata.u1_stem1_hits.fasta\\x94\\x8c<cm_hits/Blastobotrys_raffinosifermentans.u1_stem1_hits.fasta\\x94\\x8c0cm_hits/Eremothecium_gosypii.u1_stem1_hits.fasta\\x94\\x8c5cm_hits/Scheffersomyces_spartinae.u1_stem1_hits.fasta\\x94\\x8c1cm_hits/Kockiozyma_suomiensis.u1_stem1_hits.fasta\\x94\\x8c0cm_hits/Cephaloascus_albidus.u1_stem1_hits.fasta\\x94\\x8c-cm_hits/Neurospora_crassa.u1_stem1_hits.fasta\\x94\\x8c1cm_hits/Lachancea_quebecensis.u1_stem1_hits.fasta\\x94\\x8c3cm_hits/Citeromyces_matritensis.u1_stem1_hits.fasta\\x94\\x8c+cm_hits/Ogataea_kodamae.u1_stem1_hits.fasta\\x94\\x8c5cm_hits/Vanderwaltozyma_polyspora.u1_stem1_hits.fasta\\x94\\x8c2cm_hits/Barnettozyma_pratensis.u1_stem1_hits.fasta\\x94\\x8c2cm_hits/Candida_ascalaphidarum.u1_stem1_hits.fasta\\x94\\x8c4cm_hits/Eremothecium_cymbalariae.u1_stem1_hits.fasta\\x94\\x8c3cm_hits/Saccharomyces_paradoxus.u1_stem1_hits.fasta\\x94\\x8c2cm_hits/Blastobotrys_aristatus.u1_stem1_hits.fasta\\x94\\x8c,cm_hits/Botrytis_cinerea.u1_stem1_hits.fasta\\x94\\x8c1cm_hits/Cephaloascus_fragrans.u1_stem1_hits.fasta\\x94\\x8c-cm_hits/Candida_chilensis.u1_stem1_hits.fasta\\x94\\x8c4cm_hits/Saccharomycopsis_fodiens.u1_stem1_hits.fasta\\x94\\x8c3cm_hits/Wickerhamomyces_pijperi.u1_stem1_hits.fasta\\x94\\x8c/cm_hits/Ogataea_methylovora.u1_stem1_hits.fasta\\x94\\x8c1cm_hits/Naumovozyma_castellii.u1_stem1_hits.fasta\\x94\\x8c5cm_hits/Sporopachydermia_quercuum.u1_stem1_hits.fasta\\x94\\x8c,cm_hits/Candida_boidinii.u1_stem1_hits.fasta\\x94\\x8c,cm_hits/Ogataea_henricii.u1_stem1_hits.fasta\\x94\\x8c0cm_hits/Ambrosiozyma_maleeae.u1_stem1_hits.fasta\\x94\\x8c/cm_hits/Kluveromyces_lactis.u1_stem1_hits.fasta\\x94\\x8c2cm_hits/Saturnispora_zaruensis.u1_stem1_hits.fasta\\x94\\x8c2cm_hits/Ogataea_parapolymorpha.u1_stem1_hits.fasta\\x94\\x8c5cm_hits/Candida_arabinofermentans.u1_stem1_hits.fasta\\x94\\x8c.cm_hits/Tortispora_ganteri.u1_stem1_hits.fasta\\x94\\x8c/cm_hits/Torulaspora_globosa.u1_stem1_hits.fasta\\x94\\x8c.cm_hits/Ogataea_naganishii.u1_stem1_hits.fasta\\x94\\x8c3cm_hits/Saccharomyces_boulardii.u1_stem1_hits.fasta\\x94\\x8c4cm_hits/Zygosaccharomyces_bailii.u1_stem1_hits.fasta\\x94\\x8c4cm_hits/Lachancea_thermotolerans.u1_stem1_hits.fasta\\x94\\x8c2cm_hits/Suhomyces_tanzawaensis.u1_stem1_hits.fasta\\x94\\x8c0cm_hits/Zygoascus_ofunaensis.u1_stem1_hits.fasta\\x94\\x8c2cm_hits/Pachysolen_tannophilus.u1_stem1_hits.fasta\\x94\\x8c4cm_hits/Saccharomycopsis_malanga.u1_stem1_hits.fasta\\x94\\x8c3cm_hits/Suhomyces_canberraensis.u1_stem1_hits.fasta\\x94\\x8c2cm_hits/Kazachstania_barnettii.u1_stem1_hits.fasta\\x94\\x8c5cm_hits/Nadsonia_starkeyihenricii.u1_stem1_hits.fasta\\x94\\x8c3cm_hits/Sugiyamaella_xylanicola.u1_stem1_hits.fasta\\x94\\x8c-cm_hits/Hyphopichia_gotoi.u1_stem1_hits.fasta\\x94\\x8c3cm_hits/Kluyveromyces_marxianus.u1_stem1_hits.fasta\\x94\\x8c-cm_hits/Ascoidea_asiatica.u1_stem1_hits.fasta\\x94\\x8c1cm_hits/Starmerella_bombicola.u1_stem1_hits.fasta\\x94\\x8c4cm_hits/Ogataea_trehaloabstinens.u1_stem1_hits.fasta\\x94\\x8c0cm_hits/Lachancea_fermentati.u1_stem1_hits.fasta\\x94\\x8c/cm_hits/Candida_railenensis.u1_stem1_hits.fasta\\x94\\x8c3cm_hits/Lachancea_lanzerotensis.u1_stem1_hits.fasta\\x94\\x8c5cm_hits/Meyerozyma_guilliermondii.u1_stem1_hits.fasta\\x94\\x8c0cm_hits/Hanseniaspora_uvarum.u1_stem1_hits.fasta\\x94\\x8c3cm_hits/Middelhovenomyces_tepae.u1_stem1_hits.fasta\\x94\\x8c-cm_hits/Candida_schatavii.u1_stem1_hits.fasta\\x94\\x8c2cm_hits/Meyerozyma_athensensis.u1_stem1_hits.fasta\\x94\\x8c5cm_hits/Wickerhamiella_domercqiae.u1_stem1_hits.fasta\\x94\\x8c2cm_hits/Lipomyces_doorenjongii.u1_stem1_hits.fasta\\x94\\x8c)cm_hits/Pichia_exigua.u1_stem1_hits.fasta\\x94\\x8c4cm_hits/Scheffersomyces_lignosus.u1_stem1_hits.fasta\\x94\\x8c4cm_hits/Zygosaccharomyces_mellis.u1_stem1_hits.fasta\\x94\\x8c4cm_hits/Martiniozyma_abietophila.u1_stem1_hits.fasta\\x94\\x8c/cm_hits/Lachancea_mirantina.u1_stem1_hits.fasta\\x94\\x8c-cm_hits/Candida_haemuloni.u1_stem1_hits.fasta\\x94\\x8c3cm_hits/Babjeviella_inositovora.u1_stem1_hits.fasta\\x94\\x8c1cm_hits/Saprochaete_fungicola.u1_stem1_hits.fasta\\x94\\x8c/cm_hits/Lachancea_dasiensis.u1_stem1_hits.fasta\\x94\\x8c3cm_hits/Hyphopichia_homilentoma.u1_stem1_hits.fasta\\x94\\x8c4cm_hits/Candida_pseudohaemulonii.u1_stem1_hits.fasta\\x94\\x8c5cm_hits/Grigorovia_yakushimaensis.u1_stem1_hits.fasta\\x94\\x8c:cm_hits/Groenewaldozyma_salmanticensis.u1_stem1_hits.fasta\\x94\\x8c1cm_hits/Komagataella_pastoris.u1_stem1_hits.fasta\\x94\\x8c#orthogroups/species_tree_rooted.txt\\x94e}\\x94(\\x8c\\x06_names\\x94}\\x94(\\x8c\\x06u6_aln\\x94K\\x00K\\xf0\\x86\\x94\\x8c\\x04tree\\x94K\\xf0N\\x86\\x94u\\x8c\\x12_allowed_overrides\\x94]\\x94(\\x8c\\x05index\\x94\\x8c\\x04sort\\x94ej\\x04\\x01\\x00\\x00\\x8c\\tfunctools\\x94\\x8c\\x07partial\\x94\\x93\\x94h\\x06\\x8c\\x19Namedlist._used_attribute\\x94\\x93\\x94\\x85\\x94R\\x94(j\\n\\x01\\x00\\x00)}\\x94\\x8c\\x05_name\\x94j\\x04\\x01\\x00\\x00sNt\\x94bj\\x05\\x01\\x00\\x00j\\x08\\x01\\x00\\x00j\\n\\x01\\x00\\x00\\x85\\x94R\\x94(j\\n\\x01\\x00\\x00)}\\x94j\\x0e\\x01\\x00\\x00j\\x05\\x01\\x00\\x00sNt\\x94bh\\xfeh\\x06\\x8c\\tNamedlist\\x94\\x93\\x94)\\x81\\x94(h\\nh\\x0bh\\x0ch\\rh\\x0eh\\x0fh\\x10h\\x11h\\x12h\\x13h\\x14h\\x15h\\x16h\\x17h\\x18h\\x19h\\x1ah\\x1bh\\x1ch\\x1dh\\x1eh\\x1fh h!h\"h#h$h%h&h\\'h(h)h*h+h,h-h.h/h0h1h2h3h4h5h6h7h8h9h:h;h<h=h>h?h@hAhBhChDhEhFhGhHhIhJhKhLhMhNhOhPhQhRhShThUhVhWhXhYhZh[h\\\\h]h^h_h`hahbhchdhehfhghhhihjhkhlhmhnhohphqhrhshthuhvhwhxhyhzh{h|h}h~h\\x7fh\\x80h\\x81h\\x82h\\x83h\\x84h\\x85h\\x86h\\x87h\\x88h\\x89h\\x8ah\\x8bh\\x8ch\\x8dh\\x8eh\\x8fh\\x90h\\x91h\\x92h\\x93h\\x94h\\x95h\\x96h\\x97h\\x98h\\x99h\\x9ah\\x9bh\\x9ch\\x9dh\\x9eh\\x9fh\\xa0h\\xa1h\\xa2h\\xa3h\\xa4h\\xa5h\\xa6h\\xa7h\\xa8h\\xa9h\\xaah\\xabh\\xach\\xadh\\xaeh\\xafh\\xb0h\\xb1h\\xb2h\\xb3h\\xb4h\\xb5h\\xb6h\\xb7h\\xb8h\\xb9h\\xbah\\xbbh\\xbch\\xbdh\\xbeh\\xbfh\\xc0h\\xc1h\\xc2h\\xc3h\\xc4h\\xc5h\\xc6h\\xc7h\\xc8h\\xc9h\\xcah\\xcbh\\xcch\\xcdh\\xceh\\xcfh\\xd0h\\xd1h\\xd2h\\xd3h\\xd4h\\xd5h\\xd6h\\xd7h\\xd8h\\xd9h\\xdah\\xdbh\\xdch\\xddh\\xdeh\\xdfh\\xe0h\\xe1h\\xe2h\\xe3h\\xe4h\\xe5h\\xe6h\\xe7h\\xe8h\\xe9h\\xeah\\xebh\\xech\\xedh\\xeeh\\xefh\\xf0h\\xf1h\\xf2h\\xf3h\\xf4h\\xf5h\\xf6h\\xf7h\\xf8h\\xf9e}\\x94(h\\xfc}\\x94j\\x02\\x01\\x00\\x00]\\x94(j\\x04\\x01\\x00\\x00j\\x05\\x01\\x00\\x00ej\\x04\\x01\\x00\\x00j\\x08\\x01\\x00\\x00j\\n\\x01\\x00\\x00\\x85\\x94R\\x94(j\\n\\x01\\x00\\x00)}\\x94j\\x0e\\x01\\x00\\x00j\\x04\\x01\\x00\\x00sNt\\x94bj\\x05\\x01\\x00\\x00j\\x08\\x01\\x00\\x00j\\n\\x01\\x00\\x00\\x85\\x94R\\x94(j\\n\\x01\\x00\\x00)}\\x94j\\x0e\\x01\\x00\\x00j\\x05\\x01\\x00\\x00sNt\\x94bubj\\x00\\x01\\x00\\x00h\\xfaub\\x8c\\x06output\\x94h\\x06\\x8c\\x0bOutputFiles\\x94\\x93\\x94)\\x81\\x94\\x8c\\x18figures/u1_stem1_aln.svg\\x94a}\\x94(h\\xfc}\\x94\\x8c\\x03svg\\x94K\\x00N\\x86\\x94sj\\x02\\x01\\x00\\x00]\\x94(j\\x04\\x01\\x00\\x00j\\x05\\x01\\x00\\x00ej\\x04\\x01\\x00\\x00j\\x08\\x01\\x00\\x00j\\n\\x01\\x00\\x00\\x85\\x94R\\x94(j\\n\\x01\\x00\\x00)}\\x94j\\x0e\\x01\\x00\\x00j\\x04\\x01\\x00\\x00sNt\\x94bj\\x05\\x01\\x00\\x00j\\x08\\x01\\x00\\x00j\\n\\x01\\x00\\x00\\x85\\x94R\\x94(j\\n\\x01\\x00\\x00)}\\x94j\\x0e\\x01\\x00\\x00j\\x05\\x01\\x00\\x00sNt\\x94bj)\\x01\\x00\\x00j&\\x01\\x00\\x00ub\\x8c\\x06params\\x94h\\x06\\x8c\\x06Params\\x94\\x93\\x94)\\x81\\x94}\\x94(h\\xfc}\\x94j\\x02\\x01\\x00\\x00]\\x94(j\\x04\\x01\\x00\\x00j\\x05\\x01\\x00\\x00ej\\x04\\x01\\x00\\x00j\\x08\\x01\\x00\\x00j\\n\\x01\\x00\\x00\\x85\\x94R\\x94(j\\n\\x01\\x00\\x00)}\\x94j\\x0e\\x01\\x00\\x00j\\x04\\x01\\x00\\x00sNt\\x94bj\\x05\\x01\\x00\\x00j\\x08\\x01\\x00\\x00j\\n\\x01\\x00\\x00\\x85\\x94R\\x94(j\\n\\x01\\x00\\x00)}\\x94j\\x0e\\x01\\x00\\x00j\\x05\\x01\\x00\\x00sNt\\x94bub\\x8c\\twildcards\\x94h\\x06\\x8c\\tWildcards\\x94\\x93\\x94)\\x81\\x94\\x8c\\x08u1_stem1\\x94a}\\x94(h\\xfc}\\x94\\x8c\\x05snrna\\x94K\\x00N\\x86\\x94sj\\x02\\x01\\x00\\x00]\\x94(j\\x04\\x01\\x00\\x00j\\x05\\x01\\x00\\x00ej\\x04\\x01\\x00\\x00j\\x08\\x01\\x00\\x00j\\n\\x01\\x00\\x00\\x85\\x94R\\x94(j\\n\\x01\\x00\\x00)}\\x94j\\x0e\\x01\\x00\\x00j\\x04\\x01\\x00\\x00sNt\\x94bj\\x05\\x01\\x00\\x00j\\x08\\x01\\x00\\x00j\\n\\x01\\x00\\x00\\x85\\x94R\\x94(j\\n\\x01\\x00\\x00)}\\x94j\\x0e\\x01\\x00\\x00j\\x05\\x01\\x00\\x00sNt\\x94bjJ\\x01\\x00\\x00jG\\x01\\x00\\x00ub\\x8c\\x07threads\\x94K\\x01\\x8c\\tresources\\x94h\\x06\\x8c\\tResources\\x94\\x93\\x94)\\x81\\x94(K\\x01K\\x01\\x8c\\x14/tmp/1187450.1.all.q\\x94e}\\x94(h\\xfc}\\x94(\\x8c\\x06_cores\\x94K\\x00N\\x86\\x94\\x8c\\x06_nodes\\x94K\\x01N\\x86\\x94\\x8c\\x06tmpdir\\x94K\\x02N\\x86\\x94uj\\x02\\x01\\x00\\x00]\\x94(j\\x04\\x01\\x00\\x00j\\x05\\x01\\x00\\x00ej\\x04\\x01\\x00\\x00j\\x08\\x01\\x00\\x00j\\n\\x01\\x00\\x00\\x85\\x94R\\x94(j\\n\\x01\\x00\\x00)}\\x94j\\x0e\\x01\\x00\\x00j\\x04\\x01\\x00\\x00sNt\\x94bj\\x05\\x01\\x00\\x00j\\x08\\x01\\x00\\x00j\\n\\x01\\x00\\x00\\x85\\x94R\\x94(j\\n\\x01\\x00\\x00)}\\x94j\\x0e\\x01\\x00\\x00j\\x05\\x01\\x00\\x00sNt\\x94bj]\\x01\\x00\\x00K\\x01j_\\x01\\x00\\x00K\\x01ja\\x01\\x00\\x00jZ\\x01\\x00\\x00ub\\x8c\\x03log\\x94h\\x06\\x8c\\x03Log\\x94\\x93\\x94)\\x81\\x94\\x8cCnotebook_processed/u1_stem1_sequence_conservation_analysis.py.ipynb\\x94a}\\x94(h\\xfc}\\x94\\x8c\\x08notebook\\x94K\\x00N\\x86\\x94sj\\x02\\x01\\x00\\x00]\\x94(j\\x04\\x01\\x00\\x00j\\x05\\x01\\x00\\x00ej\\x04\\x01\\x00\\x00j\\x08\\x01\\x00\\x00j\\n\\x01\\x00\\x00\\x85\\x94R\\x94(j\\n\\x01\\x00\\x00)}\\x94j\\x0e\\x01\\x00\\x00j\\x04\\x01\\x00\\x00sNt\\x94bj\\x05\\x01\\x00\\x00j\\x08\\x01\\x00\\x00j\\n\\x01\\x00\\x00\\x85\\x94R\\x94(j\\n\\x01\\x00\\x00)}\\x94j\\x0e\\x01\\x00\\x00j\\x05\\x01\\x00\\x00sNt\\x94bjs\\x01\\x00\\x00jp\\x01\\x00\\x00ub\\x8c\\x06config\\x94}\\x94(\\x8c\\x05clade\\x94\\x8c\\nascomycota\\x94\\x8c\\x11key_prot_table_fn\\x94\\x8c&../../annotations/splicing_factors.tsv\\x94\\x8c\\x08plot_ogs\\x94]\\x94(\\x8c\\x07METTL16\\x94\\x8c\\x07SNRNP27\\x94\\x8c\\x06SNRPA1\\x94e\\x8c\\x05busco\\x94}\\x94(\\x8c\\x15default_busco_lineage\\x94\\x8c\\nascomycota\\x94\\x8c\\x0ebusco_lineages\\x94}\\x94(\\x8c\\x0cHomo_sapiens\\x94\\x8c\\x08primates\\x94\\x8c\\x16Caenorhabditis_elegans\\x94\\x8c\\x08nematoda\\x94\\x8c\\x17Cryptococcus_neoformans\\x94\\x8c\\x0ftremellomycetes\\x94\\x8c\\x0fUstilago_maydis\\x94\\x8c\\rbasidiomycota\\x94uu\\x8c\\x0bfunannotate\\x94}\\x94(\\x8c\\x13trusted_annotations\\x94]\\x94(\\x8c\\x0cHomo_sapiens\\x94\\x8c\\x16Caenorhabditis_elegans\\x94\\x8c\\x16Crytococcus_neoformans\\x94\\x8c\\x0fUstilago_maydis\\x94\\x8c\\x19Schizosaccharomyces_pombe\\x94\\x8c\\x16Pneumocystis_jirovecii\\x94\\x8c\\x14Aspergillus_nidulans\\x94\\x8c\\x10Botrytis_cinerea\\x94\\x8c\\x11Neurospora_crassa\\x94\\x8c\\x14Fusarium_graminearum\\x94\\x8c\\x13Yarrowia_lipolytica\\x94\\x8c\\x10Candida_albicans\\x94\\x8c\\x18Saccharomyces_cerevisiae\\x94e\\x8c\\x06ploidy\\x94}\\x94(\\x8c\\x1cZygosaccharomyces_parabailii\\x94K\\x02\\x8c\\x19Saccharomyces_pastorianus\\x94K\\x02\\x8c\\x14Millerozyma_farinosa\\x94K\\x02u\\x8c\\x0cseed_species\\x94}\\x94(\\x8c\\x13yarrowia_lipolytica\\x94]\\x94(\\x8c\\x12Lipomyces_starkeyi\\x94\\x8c\\x13Lipomyces_japonicus\\x94\\x8c\\x14Lipomyces_oligophaga\\x94\\x8c\\x16Lipomyces_doorenjongii\\x94\\x8c\\x15Kockiozyma_suomiensis\\x94\\x8c\\x16Trigonopsis_variabilis\\x94\\x8c\\x13Trigonopsis_vinaria\\x94\\x8c\\x18Botryozyma_nematodophila\\x94\\x8c\\x13Tortispora_starmeri\\x94\\x8c\\x18Tortispora_caseinolytica\\x94\\x8c\\x12Tortispora_ganteri\\x94\\x8c\\x14Candida_hispaniensis\\x94\\x8c\\x0fYarrowia_bubula\\x94\\x8c\\x15Deakozyma_indianensis\\x94\\x8c\\x19Wickerhamiella_sorbophila\\x94\\x8c\\x18Wickerhamiella_cacticola\\x94\\x8c\\x19Wickerhamiella_domercqiae\\x94\\x8c\\x19Wickerhamiella_versatilis\\x94\\x8c\\x13Starmerella_apicola\\x94\\x8c\\x15Starmerella_bombicola\\x94\\x8c\\x16Trichomonascus_ciferii\\x94\\x8c\\x12Saprochaete_ingens\\x94\\x8c\\x15Saprochaete_fungicola\\x94\\x8c\\x13Nadsonia_fulvescens\\x94\\x8c\\x19Nadsonia_starkeyihenricii\\x94\\x8c\\x17Middelhovenomyces_tepae\\x94\\x8c\\x17Magnusiomyces_capitatus\\x94\\x8c\\x1aMagnusiomyces_tetraspermus\\x94\\x8c\\x12Dipodascus_albidus\\x94\\x8c\\x1eGroenewaldozyma_salmanticensis\\x94\\x8c\\x14Zygoascus_ofunaensis\\x94\\x8c\\x11Zygoascus_meyerae\\x94\\x8c\\x1dDiddensiella_caesifluorescens\\x94\\x8c\\x1cSpencermartinsiella_europaea\\x94\\x8c\\x16Blastobotrys_muscicola\\x94\\x8c\\x16Blastobotrys_mokoenaii\\x94\\x8c\\x16Blastobotrys_aristatus\\x94\\x8c Blastobotrys_raffinosifermentans\\x94\\x8c\\x1aSugiyamaella_lignohabitans\\x94\\x8c\\x17Sugiyamaella_xylanicola\\x94e\\x8c\\x10candida_albicans\\x94]\\x94(\\x8c\\x16Alloascoidea_hylecoeti\\x94\\x8c\\x19Sporopachydermia_quercuum\\x94\\x8c\\x1cSporopachydermia_lactativora\\x94\\x8c\\x16Pachysolen_tannophilus\\x94\\x8c\\x11Peterozyma_xylosa\\x94\\x8c\\x12Nakazawaea_peltata\\x94\\x8c\\x12Nakazawaea_holstii\\x94\\x8c\\x13Kuraishia_capsulata\\x94\\x8c\\x10Kuraishia_ogatae\\x94\\x8c\\x10Candida_boidinii\\x94\\x8c\\x19Candida_arabinofermentans\\x94\\x8c\\x16Ogataea_parapolymorpha\\x94\\x8c\\x12Ogataea_polymorpha\\x94\\x8c\\x13Ogataea_methylovora\\x94\\x8c\\x18Ogataea_trehaloabstinens\\x94\\x8c\\x0fOgataea_kodamae\\x94\\x8c\\x0eOgataea_minuta\\x94\\x8c\\x10Ogataea_henricii\\x94\\x8c\\x0fOgataea_zsoltii\\x94\\x8c\\x12Ogataea_pilisensis\\x94\\x8c\\x12Ogataea_naganishii\\x94\\x8c\\x13Ogataea_ramenticola\\x94\\x8c\\x14Ambrosiozyma_maleeae\\x94\\x8c Ambrosiozyma_pseudovanderkliftii\\x94\\x8c\\x17Ambrosiozyma_philentoma\\x94\\x8c\\x1aAmbrosiozyma_kashinagicola\\x94\\x8c\\x14Dekkera_bruxellensis\\x94\\x8c\\x13Brettanomyces_nanus\\x94\\x8c\\x1aBrettanomyces_naardenensis\\x94\\x8c\\x18Kregervanrija_delftensis\\x94\\x8c\\x15Kregervanrija_fluxuum\\x94\\x8c\\x18Martiniozyma_abietophila\\x94\\x8c\\x13Saturnispora_silvae\\x94\\x8c\\x1cSaturnispora_serradocipensis\\x94\\x8c\\x16Saturnispora_zaruensis\\x94\\x8c\\x16Saturnispora_mendoncae\\x94\\x8c\\x14Saturnispora_dispora\\x94\\x8c\\x16Pichia_membranifaciens\\x94\\x8c\\x13Candida_californica\\x94\\x8c\\x13Pichia_kudriavzevii\\x94\\x8c\\x10Pichia_terricola\\x94\\x8c\\x12Pichia_norvegensis\\x94\\x8c\\x0ePichia_nakasei\\x94\\x8c\\rPichia_exigua\\x94\\x8c\\x11Pichia_manshurica\\x94\\x8c\\x13Pichia_occidentalis\\x94\\x8c\\x13Candida_inconspicua\\x94\\x8c\\x17Komagataella_kurtzmanii\\x94\\x8c\\x14Komagataella_phaffii\\x94\\x8c\\x15Komagataella_pastoris\\x94\\x8c\\x15Citeromyces_siamensis\\x94\\x8c\\x17Citeromyces_matritensis\\x94\\x8c\\x17Babjeviella_inositovora\\x94\\x8c\\x15Cephaloascus_fragrans\\x94\\x8c\\x14Cephaloascus_albidus\\x94\\x8c\\x0eDiutina_rugosa\\x94\\x8c\\x12Diutina_catenulata\\x94\\x8c\\x11Candida_schatavii\\x94\\x8c\\x18Kurtzmaniella_cleridarum\\x94\\x8c\\x13Kurtzmaniella_fragi\\x94\\x8c\\x16Candida_ascalaphidarum\\x94\\x8c\\x10Candida_gorgasii\\x94\\x8c\\x19Scheffersomyces_spartinae\\x94\\x8c\\x10Candida_jaroonii\\x94\\x8c\\x11Yamadazyma_tenuis\\x94\\x8c\\x14Yamadazyma_philogaea\\x94\\x8c\\x12Yamadazyma_scolyti\\x94\\x8c\\x13Candida_railenensis\\x94\\x8c\\x13Millerozyma_acaciae\\x94\\x8c\\x14Millerozyma_farinosa\\x94\\x8c\\x13Debaryomyces_fabryi\\x94\\x8c\\x14Debaryomyces_hanseni\\x94\\x8c\\x14Debaryomyces_maramus\\x94\\x8c\\x14Priceomyces_carsonii\\x94\\x8c\\x12Priceomyces_medius\\x94\\x8c\\x15Priceomyces_castillae\\x94\\x8c\\x17Wickerhamia_fluorescens\\x94\\x8c\\x15Teunomyces_gatunensis\\x94\\x8c\\x12Teunomyces_kruisii\\x94\\x8c\\x13Suhomyces_pyralidae\\x94\\x8c\\x17Suhomyces_canberraensis\\x94\\x8c\\x12Kodamaea_laetipori\\x94\\x8c\\x18Scheffersomyces_lignosus\\x94\\x8c\\x18Danielozyma_ontarioensis\\x94\\x8c\\x14Hyphopichia_burtonii\\x94\\x8c\\x17Hyphopichia_homilentoma\\x94\\x8c\\x11Hyphopichia_gotoi\\x94\\x8c\\x19Meyerozyma_guilliermondii\\x94\\x8c\\x10Meyerozyma_spJA9\\x94\\x8c\\x14Meyerozyma_caribbica\\x94\\x8c\\x16Meyerozyma_athensensis\\x94\\x8c\\rCandida_auris\\x94\\x8c\\x11Candida_haemuloni\\x94\\x8c\\x18Candida_pseudohaemulonii\\x94\\x8c\\x18Candida_duobushaemulonis\\x94\\x8c\\x18Metschnikowia_spJCM33374\\x94\\x8c\\x19Metschnikowia_bicuspidata\\x94\\x8c\\x19Metschnikowia_pulcherrima\\x94\\x8c\\x12Candida_intermedia\\x94\\x8c\\x15Clavispora_lusitaniae\\x94\\x8c\\x16Suhomyces_tanzawaensis\\x94\\x8c\\x18Scheffersomyces_stipitis\\x94\\x8c\\x11Candida_subhashii\\x94\\x8c\\x18Spathaspora_passalidarum\\x94\\x8c\\x11Spathaspora_spJA1\\x94\\x8c\\x14Candida_dubliniensis\\x94\\x8c\\x11Candida_tropcalis\\x94\\x8c\\x0fCandida_maltosa\\x94\\x8c\\x13Candida_oxycetoniae\\x94\\x8c\\x19Lodderomyces_elongesporus\\x94\\x8c\\x14Candida_jiufengensis\\x94\\x8c\\rCandida_theae\\x94\\x8c\\x14Candida_metapsilosis\\x94\\x8c\\x14Candida_parapsilosis\\x94\\x8c\\x15Candida_orthopsilosis\\x94\\x8c\\x11Candida_chilensis\\x94e\\x8c\\x1esaccharomyces_cerevisiae_S288C\\x94]\\x94(\\x8c\\x1bSaccharomycopsis_fibuligera\\x94\\x8c\\x18Saccharomycopsis_malanga\\x94\\x8c\\x1bSaccharomycopsis_fermentans\\x94\\x8c\\x18Saccharomycopsis_fodiens\\x94\\x8c\\x12Ascoidea_rubescens\\x94\\x8c\\x11Ascoidea_asiatica\\x94\\x8c\\x12Candida_ponderosae\\x94\\x8c\\x11Starmera_quercuum\\x94\\x8c\\x14Starmera_amethionina\\x94\\x8c\\x17Wickerhamomyces_pijperi\\x94\\x8c\\x17Wickerhamomyces_mucosus\\x94\\x8c\\x18Wickerhamomyces_ciferrii\\x94\\x8c\\x18Wickerhamomyces_anomalus\\x94\\x8c\\x14Wickerhamomyces_alni\\x94\\x8c\\x15Wickerhamomyces_bovis\\x94\\x8c\\x15Cyberlindnera_jadinii\\x94\\x8c\\x16Cyberlindnera_fabianii\\x94\\x8c\\x14Cyberlindnera_mrakii\\x94\\x8c\\x18Barnettozyma_californica\\x94\\x8c\\x16Barnettozyma_salicaria\\x94\\x8c\\x16Barnettozyma_pratensis\\x94\\x8c\\x0fCandida_montana\\x94\\x8c\\x14Phaffomyces_opuntiae\\x94\\x8c\\x17Saccharomycodes_ludwigi\\x94\\x8c\\x17Hanseniaspora_osmophila\\x94\\x8c\\x1cHanseniaspora_guilliermondii\\x94\\x8c\\x16Hanseniaspora_opuntiae\\x94\\x8c\\x14Hanseniaspora_uvarum\\x94\\x8c\\x16Tetrapisispora_blattae\\x94\\x8c\\x19Vanderwaltozyma_polyspora\\x94\\x8c\\x16Tetrapisispora_phaffii\\x94\\x8c\\x18Zygosaccharomyces_mellis\\x94\\x8c\\x18Zygosaccharomyces_rouxii\\x94\\x8c\\x18Zygosaccharomyces_bailii\\x94\\x8c\\x1cZygosaccharomyces_parabailii\\x94\\x8c\\x16Zygotorulaspora_mrakii\\x94\\x8c\\x13Torulaspora_globosa\\x94\\x8c\\x15Torulaspora_spCBS2947\\x94\\x8c\\x17Torulaspora_delbrueckii\\x94\\x8c\\x10Candida_glabrata\\x94\\x8c\\x17Saccharomyces_paradoxus\\x94\\x8c\\x19Saccharomyces_pastorianus\\x94\\x8c\\x17Saccharomyces_eubayanus\\x94\\x8c\\x17Saccharomyces_boulardii\\x94\\x8c\\x15Naumovozyma_castellii\\x94\\x8c\\x17Naumovozyma_dairenensis\\x94\\x8c\\x1aNakaseomyces_bacillisporus\\x94\\x8c\\x15Kazachstania_africana\\x94\\x8c\\x13Kazachstania_exigua\\x94\\x8c\\x18Kazachstania_saulgeensis\\x94\\x8c\\x16Kazachstania_barnettii\\x94\\x8c\\x17Kazachstania_naganishii\\x94\\x8c\\x15Kazachstania_unispora\\x94\\x8c\\x17Eremothecium_sinecaudum\\x94\\x8c\\x18Eremothecium_cymbalariae\\x94\\x8c\\x14Eremothecium_gosypii\\x94\\x8c\\x0cAshbya_aceri\\x94\\x8c\\x17Kluyveromyces_marxianus\\x94\\x8c\\x13Kluveromyces_lactis\\x94\\x8c\\x19Kluyveromyces_dobzhanskii\\x94\\x8c\\x13Lachancea_mirantina\\x94\\x8c\\x14Lachancea_fermentati\\x94\\x8c\\x15Lachancea_quebecensis\\x94\\x8c\\x18Lachancea_thermotolerans\\x94\\x8c\\x13Lachancea_nothofagi\\x94\\x8c\\x13Lachancea_dasiensis\\x94\\x8c\\x17Lachancea_lanzerotensis\\x94\\x8c\\x12Lachancea_meyersii\\x94\\x8c\\x12Yueomyces_sinensis\\x94\\x8c\\x19Grigorovia_yakushimaensis\\x94\\x8c\\x19Grigorovia_transvaalensis\\x94euu\\x8c\\x0cknown_clades\\x94}\\x94(\\x8c\\tOutgroups\\x94]\\x94(\\x8c\\x0cHomo_sapiens\\x94\\x8c\\x16Caenorhabditis_elegans\\x94\\x8c\\x16Crytococcus_neoformans\\x94\\x8c\\x0fUstilago_maydis\\x94\\x8c\\x19Schizosaccharomyces_pombe\\x94\\x8c\\x16Pneumocystis_jirovecii\\x94\\x8c\\x14Aspergillus_nidulans\\x94\\x8c\\x10Botrytis_cinerea\\x94\\x8c\\x11Neurospora_crassa\\x94\\x8c\\x14Fusarium_graminearum\\x94e\\x8c\\x10Trigonopsidaceae\\x94]\\x94(\\x8c\\x16Trigonopsis_variabilis\\x94\\x8c\\x13Trigonopsis_vinaria\\x94\\x8c\\x18Botryozyma_nematodophila\\x94\\x8c\\x13Tortispora_starmeri\\x94\\x8c\\x18Tortispora_caseinolytica\\x94\\x8c\\x12Tortispora_ganteri\\x94e\\x8c\\x0eLipomycetaceae\\x94]\\x94(\\x8c\\x12Lipomyces_starkeyi\\x94\\x8c\\x13Lipomyces_japonicus\\x94\\x8c\\x14Lipomyces_oligophaga\\x94\\x8c\\x16Lipomyces_doorenjongii\\x94\\x8c\\x15Kockiozyma_suomiensis\\x94e\\x8c\\rDipodascaceae\\x94]\\x94(\\x8c\\x14Candida_hispaniensis\\x94\\x8c\\x0fYarrowia_bubula\\x94\\x8c\\x13Yarrowia_lipolytica\\x94\\x8c\\x15Deakozyma_indianensis\\x94\\x8c\\x19Wickerhamiella_sorbophila\\x94\\x8c\\x18Wickerhamiella_cacticola\\x94\\x8c\\x19Wickerhamiella_domercqiae\\x94\\x8c\\x19Wickerhamiella_versatilis\\x94\\x8c\\x13Starmerella_apicola\\x94\\x8c\\x15Starmerella_bombicola\\x94\\x8c\\x16Trichomonascus_ciferii\\x94\\x8c\\x12Saprochaete_ingens\\x94\\x8c\\x15Saprochaete_fungicola\\x94\\x8c\\x13Nadsonia_fulvescens\\x94\\x8c\\x19Nadsonia_starkeyihenricii\\x94\\x8c\\x17Middelhovenomyces_tepae\\x94\\x8c\\x17Magnusiomyces_capitatus\\x94\\x8c\\x1aMagnusiomyces_tetraspermus\\x94\\x8c\\x12Dipodascus_albidus\\x94\\x8c\\x1eGroenewaldozyma_salmanticensis\\x94\\x8c\\x14Zygoascus_ofunaensis\\x94\\x8c\\x11Zygoascus_meyerae\\x94\\x8c\\x1dDiddensiella_caesifluorescens\\x94\\x8c\\x1cSpencermartinsiella_europaea\\x94\\x8c\\x16Blastobotrys_muscicola\\x94\\x8c\\x16Blastobotrys_mokoenaii\\x94\\x8c\\x16Blastobotrys_aristatus\\x94\\x8c Blastobotrys_raffinosifermentans\\x94\\x8c\\x1aSugiyamaella_lignohabitans\\x94\\x8c\\x17Sugiyamaella_xylanicola\\x94e\\x8c\\x10Alloascoideaceae\\x94]\\x94(\\x8c\\x16Alloascoidea_hylecoeti\\x94\\x8c\\x19Sporopachydermia_quercuum\\x94\\x8c\\x1cSporopachydermia_lactativora\\x94e\\x8c\\x07CUG-Ala\\x94]\\x94(\\x8c\\x16Pachysolen_tannophilus\\x94\\x8c\\x11Peterozyma_xylosa\\x94\\x8c\\x12Nakazawaea_peltata\\x94\\x8c\\x12Nakazawaea_holstii\\x94e\\x8c\\nPichiaceae\\x94]\\x94(\\x8c\\x13Kuraishia_capsulata\\x94\\x8c\\x10Kuraishia_ogatae\\x94\\x8c\\x10Candida_boidinii\\x94\\x8c\\x19Candida_arabinofermentans\\x94\\x8c\\x16Ogataea_parapolymorpha\\x94\\x8c\\x12Ogataea_polymorpha\\x94\\x8c\\x13Ogataea_methylovora\\x94\\x8c\\x18Ogataea_trehaloabstinens\\x94\\x8c\\x0fOgataea_kodamae\\x94\\x8c\\x0eOgataea_minuta\\x94\\x8c\\x10Ogataea_henricii\\x94\\x8c\\x0fOgataea_zsoltii\\x94\\x8c\\x12Ogataea_pilisensis\\x94\\x8c\\x12Ogataea_naganishii\\x94\\x8c\\x13Ogataea_ramenticola\\x94\\x8c\\x14Ambrosiozyma_maleeae\\x94\\x8c Ambrosiozyma_pseudovanderkliftii\\x94\\x8c\\x17Ambrosiozyma_philentoma\\x94\\x8c\\x1aAmbrosiozyma_kashinagicola\\x94\\x8c\\x14Dekkera_bruxellensis\\x94\\x8c\\x13Brettanomyces_nanus\\x94\\x8c\\x1aBrettanomyces_naardenensis\\x94\\x8c\\x18Kregervanrija_delftensis\\x94\\x8c\\x15Kregervanrija_fluxuum\\x94\\x8c\\x18Martiniozyma_abietophila\\x94\\x8c\\x13Saturnispora_silvae\\x94\\x8c\\x1cSaturnispora_serradocipensis\\x94\\x8c\\x16Saturnispora_zaruensis\\x94\\x8c\\x16Saturnispora_mendoncae\\x94\\x8c\\x14Saturnispora_dispora\\x94\\x8c\\x16Pichia_membranifaciens\\x94\\x8c\\x13Candida_californica\\x94\\x8c\\x13Pichia_kudriavzevii\\x94\\x8c\\x10Pichia_terricola\\x94\\x8c\\x12Pichia_norvegensis\\x94\\x8c\\x0ePichia_nakasei\\x94\\x8c\\rPichia_exigua\\x94\\x8c\\x11Pichia_manshurica\\x94\\x8c\\x13Pichia_occidentalis\\x94\\x8c\\x13Candida_inconspicua\\x94\\x8c\\x17Komagataella_kurtzmanii\\x94\\x8c\\x14Komagataella_phaffii\\x94\\x8c\\x15Komagataella_pastoris\\x94\\x8c\\x15Citeromyces_siamensis\\x94\\x8c\\x17Citeromyces_matritensis\\x94e\\x8c\\x08CUG-Ser2\\x94]\\x94(\\x8c\\x1bSaccharomycopsis_fibuligera\\x94\\x8c\\x18Saccharomycopsis_malanga\\x94\\x8c\\x1bSaccharomycopsis_fermentans\\x94\\x8c\\x18Saccharomycopsis_fodiens\\x94\\x8c\\x12Ascoidea_rubescens\\x94\\x8c\\x11Ascoidea_asiatica\\x94e\\x8c\\x08CUG-Ser1\\x94]\\x94(\\x8c\\x17Babjeviella_inositovora\\x94\\x8c\\x15Cephaloascus_fragrans\\x94\\x8c\\x14Cephaloascus_albidus\\x94\\x8c\\x0eDiutina_rugosa\\x94\\x8c\\x12Diutina_catenulata\\x94\\x8c\\x11Candida_schatavii\\x94\\x8c\\x18Kurtzmaniella_cleridarum\\x94\\x8c\\x13Kurtzmaniella_fragi\\x94\\x8c\\x16Candida_ascalaphidarum\\x94\\x8c\\x10Candida_gorgasii\\x94\\x8c\\x19Scheffersomyces_spartinae\\x94\\x8c\\x10Candida_jaroonii\\x94\\x8c\\x11Yamadazyma_tenuis\\x94\\x8c\\x14Yamadazyma_philogaea\\x94\\x8c\\x12Yamadazyma_scolyti\\x94\\x8c\\x13Candida_railenensis\\x94\\x8c\\x13Millerozyma_acaciae\\x94\\x8c\\x14Millerozyma_farinosa\\x94\\x8c\\x13Debaryomyces_fabryi\\x94\\x8c\\x14Debaryomyces_hanseni\\x94\\x8c\\x14Debaryomyces_maramus\\x94\\x8c\\x14Priceomyces_carsonii\\x94\\x8c\\x12Priceomyces_medius\\x94\\x8c\\x15Priceomyces_castillae\\x94\\x8c\\x17Wickerhamia_fluorescens\\x94\\x8c\\x15Teunomyces_gatunensis\\x94\\x8c\\x12Teunomyces_kruisii\\x94\\x8c\\x13Suhomyces_pyralidae\\x94\\x8c\\x17Suhomyces_canberraensis\\x94\\x8c\\x12Kodamaea_laetipori\\x94\\x8c\\x18Scheffersomyces_lignosus\\x94\\x8c\\x18Danielozyma_ontarioensis\\x94\\x8c\\x14Hyphopichia_burtonii\\x94\\x8c\\x17Hyphopichia_homilentoma\\x94\\x8c\\x11Hyphopichia_gotoi\\x94\\x8c\\x19Meyerozyma_guilliermondii\\x94\\x8c\\x10Meyerozyma_spJA9\\x94\\x8c\\x14Meyerozyma_caribbica\\x94\\x8c\\x16Meyerozyma_athensensis\\x94\\x8c\\rCandida_auris\\x94\\x8c\\x11Candida_haemuloni\\x94\\x8c\\x18Candida_pseudohaemulonii\\x94\\x8c\\x18Candida_duobushaemulonis\\x94\\x8c\\x18Metschnikowia_spJCM33374\\x94\\x8c\\x19Metschnikowia_bicuspidata\\x94\\x8c\\x19Metschnikowia_pulcherrima\\x94\\x8c\\x12Candida_intermedia\\x94\\x8c\\x15Clavispora_lusitaniae\\x94\\x8c\\x16Suhomyces_tanzawaensis\\x94\\x8c\\x18Scheffersomyces_stipitis\\x94\\x8c\\x11Candida_subhashii\\x94\\x8c\\x18Spathaspora_passalidarum\\x94\\x8c\\x11Spathaspora_spJA1\\x94\\x8c\\x14Candida_dubliniensis\\x94\\x8c\\x10Candida_albicans\\x94\\x8c\\x11Candida_tropcalis\\x94\\x8c\\x0fCandida_maltosa\\x94\\x8c\\x13Candida_oxycetoniae\\x94\\x8c\\x19Lodderomyces_elongesporus\\x94\\x8c\\x14Candida_jiufengensis\\x94\\x8c\\rCandida_theae\\x94\\x8c\\x14Candida_metapsilosis\\x94\\x8c\\x14Candida_parapsilosis\\x94\\x8c\\x15Candida_orthopsilosis\\x94\\x8c\\x11Candida_chilensis\\x94e\\x8c\\x12Saccharomycetaceae\\x94]\\x94(\\x8c\\x16Tetrapisispora_blattae\\x94\\x8c\\x19Vanderwaltozyma_polyspora\\x94\\x8c\\x16Tetrapisispora_phaffii\\x94\\x8c\\x18Zygosaccharomyces_mellis\\x94\\x8c\\x18Zygosaccharomyces_rouxii\\x94\\x8c\\x18Zygosaccharomyces_bailii\\x94\\x8c\\x1cZygosaccharomyces_parabailii\\x94\\x8c\\x16Zygotorulaspora_mrakii\\x94\\x8c\\x13Torulaspora_globosa\\x94\\x8c\\x15Torulaspora_spCBS2947\\x94\\x8c\\x17Torulaspora_delbrueckii\\x94\\x8c\\x10Candida_glabrata\\x94\\x8c\\x17Saccharomyces_paradoxus\\x94\\x8c\\x19Saccharomyces_pastorianus\\x94\\x8c\\x17Saccharomyces_eubayanus\\x94\\x8c\\x17Saccharomyces_boulardii\\x94\\x8c\\x18Saccharomyces_cerevisiae\\x94\\x8c\\x15Naumovozyma_castellii\\x94\\x8c\\x17Naumovozyma_dairenensis\\x94\\x8c\\x1aNakaseomyces_bacillisporus\\x94\\x8c\\x15Kazachstania_africana\\x94\\x8c\\x13Kazachstania_exigua\\x94\\x8c\\x18Kazachstania_saulgeensis\\x94\\x8c\\x16Kazachstania_barnettii\\x94\\x8c\\x17Kazachstania_naganishii\\x94\\x8c\\x15Kazachstania_unispora\\x94\\x8c\\x17Eremothecium_sinecaudum\\x94\\x8c\\x18Eremothecium_cymbalariae\\x94\\x8c\\x14Eremothecium_gosypii\\x94\\x8c\\x0cAshbya_aceri\\x94\\x8c\\x17Kluyveromyces_marxianus\\x94\\x8c\\x13Kluveromyces_lactis\\x94\\x8c\\x19Kluyveromyces_dobzhanskii\\x94\\x8c\\x13Lachancea_mirantina\\x94\\x8c\\x14Lachancea_fermentati\\x94\\x8c\\x15Lachancea_quebecensis\\x94\\x8c\\x18Lachancea_thermotolerans\\x94\\x8c\\x13Lachancea_nothofagi\\x94\\x8c\\x13Lachancea_dasiensis\\x94\\x8c\\x17Lachancea_lanzerotensis\\x94\\x8c\\x12Lachancea_meyersii\\x94\\x8c\\x12Yueomyces_sinensis\\x94\\x8c\\x19Grigorovia_yakushimaensis\\x94\\x8c\\x19Grigorovia_transvaalensis\\x94e\\x8c\\x12Saccharomycodaceae\\x94]\\x94(\\x8c\\x17Saccharomycodes_ludwigi\\x94\\x8c\\x17Hanseniaspora_osmophila\\x94\\x8c\\x1cHanseniaspora_guilliermondii\\x94\\x8c\\x16Hanseniaspora_opuntiae\\x94\\x8c\\x14Hanseniaspora_uvarum\\x94e\\x8c\\x10Phaffomycetaceae\\x94]\\x94(\\x8c\\x12Candida_ponderosae\\x94\\x8c\\x11Starmera_quercuum\\x94\\x8c\\x14Starmera_amethionina\\x94\\x8c\\x17Wickerhamomyces_pijperi\\x94\\x8c\\x17Wickerhamomyces_mucosus\\x94\\x8c\\x18Wickerhamomyces_ciferrii\\x94\\x8c\\x18Wickerhamomyces_anomalus\\x94\\x8c\\x14Wickerhamomyces_alni\\x94\\x8c\\x15Wickerhamomyces_bovis\\x94\\x8c\\x15Cyberlindnera_jadinii\\x94\\x8c\\x16Cyberlindnera_fabianii\\x94\\x8c\\x14Cyberlindnera_mrakii\\x94\\x8c\\x18Barnettozyma_californica\\x94\\x8c\\x16Barnettozyma_salicaria\\x94\\x8c\\x16Barnettozyma_pratensis\\x94\\x8c\\x0fCandida_montana\\x94\\x8c\\x14Phaffomyces_opuntiae\\x94euu\\x8c\\x04rule\\x94\\x8c\\x1esequence_conservation_analysis\\x94\\x8c\\x0fbench_iteration\\x94N\\x8c\\tscriptdir\\x94\\x8cg/cluster/ggs_lab/mtparker/papers/splice_site_phylogenetics/phylo_assoc_mapping/rules/notebook_templates\\x94ub.'); from snakemake.logging import logger; logger.printshellcmds = False; import os; os.chdir(r'/cluster/ggs_lab/mtparker/papers/splice_site_phylogenetics/phylo_assoc_mapping/pipeline/ascomycota');\n",
    "######## snakemake preamble end #########\n"
   ]
  },
  {
   "cell_type": "code",
   "execution_count": 2,
   "metadata": {},
   "outputs": [
    {
     "data": {
      "image/png": "[encoded data removed]",
      "text/plain": [
       "<Figure size 504x72 with 1 Axes>"
      ]
     },
     "metadata": {},
     "output_type": "display_data"
    }
   ],
   "source": [
    "import os\n",
    "import re\n",
    "from glob import glob\n",
    "import itertools as it\n",
    "import tempfile\n",
    "import warnings\n",
    "import subprocess as sp\n",
    "from copy import copy\n",
    "\n",
    "import numpy as np\n",
    "import pandas as pd\n",
    "from scipy import stats\n",
    "\n",
    "import matplotlib.pyplot as plt\n",
    "from matplotlib.colors import ListedColormap, LinearSegmentedColormap, Normalize, to_hex\n",
    "from matplotlib.cm import ScalarMappable\n",
    "import seaborn as sns\n",
    "\n",
    "import ete3\n",
    "os.environ['QT_QPA_PLATFORM']='offscreen'\n",
    "\n",
    "## Default plotting params\n",
    "%matplotlib inline\n",
    "sns.set(font='Arial')\n",
    "plt.rcParams['svg.fonttype'] = 'none'\n",
    "style = sns.axes_style('white')\n",
    "style.update(sns.axes_style('ticks'))\n",
    "style['xtick.major.size'] = 2\n",
    "style['ytick.major.size'] = 2\n",
    "sns.set(font_scale=1.2, style=style)\n",
    "pal = sns.color_palette(['#0072b2', '#d55e00', '#009e73', '#f0e442', '#cc79a7', '#56b4e9', '#e69f00'])\n",
    "cmap = ListedColormap(pal.as_hex())\n",
    "sns.set_palette(pal)\n",
    "sns.palplot(pal)\n",
    "plt.show()"
   ]
  },
  {
   "cell_type": "code",
   "execution_count": 3,
   "metadata": {},
   "outputs": [],
   "source": [
    "def _parse_fasta(buffer):\n",
    "    seqs = {}\n",
    "    try:\n",
    "        seq_id = next(buffer).strip().split(' ')[0][1:]\n",
    "    except StopIteration:\n",
    "        # file is empty\n",
    "        return seqs\n",
    "    seq = []\n",
    "    for line in buffer:\n",
    "        if not line.startswith('>'):\n",
    "            seq.append(line.strip())\n",
    "        else:\n",
    "            seqs[seq_id] = ''.join(seq)\n",
    "            seq_id = line.strip().split(' ')[0][1:]\n",
    "            seq = []\n",
    "    else:\n",
    "        seqs[seq_id] = ''.join(seq)\n",
    "    return seqs\n",
    "\n",
    "\n",
    "def read_fasta(fasta_fn):\n",
    "    with open(fasta_fn) as f:\n",
    "        seqs = _parse_fasta(f)\n",
    "    return seqs\n",
    "\n",
    "\n",
    "def read_cm_hit_fastas(fasta_fns):\n",
    "    res = []\n",
    "    for fn in fasta_fns:\n",
    "        for seq_id, seq in read_fasta(fn).items():\n",
    "            species, score, contig, start, end, strand = re.search(\n",
    "                '^(\\w+)\\|([\\de\\-\\.]+)::([^:]+):(\\d+)-(\\d+)\\(([+-])\\)$',\n",
    "                seq_id\n",
    "            ).groups()\n",
    "            score = float(score)\n",
    "            start, end = int(start), int(end)\n",
    "            res.append([species, contig, start, end, strand, score, seq.upper()])\n",
    "    return pd.DataFrame(res, columns=['species', 'contig', 'start', 'end', 'strand', 'e_val', 'seq'])\n",
    "\n",
    "\n",
    "def sanitise_rna_seqs(seqs):\n",
    "    cleaned = {\n",
    "        seq_id: re.sub('[^ACGUT]', 'N', seq)\n",
    "        for seq_id, seq in seqs.items()\n",
    "    }\n",
    "    return cleaned\n",
    "\n",
    "\n",
    "def cm_consensus(cm_fn):\n",
    "    proc = sp.run(\n",
    "        f'cmemit -c {cm_fn}',\n",
    "        shell=True,\n",
    "        check=True,\n",
    "        stderr=sp.DEVNULL,\n",
    "        stdout=sp.PIPE\n",
    "    )\n",
    "    seq = _parse_fasta(iter(proc.stdout.decode().split('\\n')))\n",
    "    assert len(seq) == 1\n",
    "    return list(seq.values())[0].upper()\n",
    "\n",
    "\n",
    "def _cmalign(seqs, cm_fn):\n",
    "    tmp_fh, tmp_fn = tempfile.mkstemp()\n",
    "    with open(tmp_fn, 'w') as tmp:\n",
    "        for seq_id, seq in sanitise_rna_seqs(seqs).items():\n",
    "            tmp.write(f\">{seq_id}\\n{seq}\\n\")\n",
    "    proc = sp.run(\n",
    "        f'cmalign --outformat afa --matchonly {cm_fn} {tmp_fn}',\n",
    "        shell=True,\n",
    "        check=True,\n",
    "        stdout=sp.PIPE,\n",
    "        stderr=sp.DEVNULL\n",
    "    )\n",
    "    os.close(tmp_fh)\n",
    "    os.remove(tmp_fn)\n",
    "    return _parse_fasta(iter(proc.stdout.decode().split('\\n')))\n",
    "\n",
    "\n",
    "def cm_align(seqs, cm_fn):\n",
    "    cm_cons = cm_consensus(cm_fn)\n",
    "    seqs = copy(seqs)\n",
    "    seqs['cm_consensus'] = cm_cons\n",
    "    aln = _cmalign(seqs, cm_fn)\n",
    "    alned_cons = seqs.pop('cm_consensus')\n",
    "    return alned_cons, aln"
   ]
  },
  {
   "cell_type": "code",
   "execution_count": 5,
   "metadata": {},
   "outputs": [],
   "source": [
    "u1_aln_res = read_cm_hit_fastas(snakemake.input.u6_aln)\n",
    "u1_aln_best_hit = u1_aln_res.sort_values('e_val').drop_duplicates(subset='species', keep='first')\n",
    "known_clades = {\n",
    "    sp: clade for clade, species_list in snakemake.config['known_clades'].items() for sp in species_list\n",
    "}\n",
    "u1_aln_best_hit['clade'] = u1_aln_best_hit.species.map(known_clades)"
   ]
  },
  {
   "cell_type": "code",
   "execution_count": 7,
   "metadata": {},
   "outputs": [
    {
     "data": {
      "image/png": "[encoded data removed]",
      "text/plain": [
       "<Figure size 504x360 with 1 Axes>"
      ]
     },
     "metadata": {},
     "output_type": "display_data"
    }
   ],
   "source": [
    "clade_colours = {\n",
    "    'Outgroups': '#7c7c7c',\n",
    "    'Lipomycetaceae': '#f1c232',\n",
    "    'Trigonopsidaceae': '#bf9000',\n",
    "    'Dipodascaceae': '#ff0000',\n",
    "    'Alloascoideaceae': '#c27ba0',\n",
    "    'CUG-Ser2': '#d55e00',\n",
    "    'Phaffomycetaceae': '#ee9956',\n",
    "    'CUG-Ser1': '#0072b2',\n",
    "    'CUG-Ala': '#56b4e9',\n",
    "    'Pichiaceae': '#674ea7',\n",
    "    'Saccharomycodaceae': '#00f3b1',\n",
    "    'Saccharomycetaceae': '#009e73',\n",
    "}\n",
    "\n",
    "data = []\n",
    "zorder = 0\n",
    "fig, ax = plt.subplots(figsize=(7, 5))\n",
    "for clade, group in u1_aln_best_hit.groupby('clade'):\n",
    "    data += (-np.log10(group.e_val)).values.tolist()\n",
    "    ax.hist(data, range=(0, 25), bins=25, zorder=zorder, color=clade_colours[clade])\n",
    "    zorder -= 1\n",
    "ax.set_xlabel('-log10 E value of best hit')\n",
    "ax.set_ylabel('Species')\n",
    "plt.show()"
   ]
  },
  {
   "cell_type": "code",
   "execution_count": 10,
   "metadata": {},
   "outputs": [
    {
     "data": {
      "text/html": [
       "<div>\n",
       "<style scoped>\n",
       "    .dataframe tbody tr th:only-of-type {\n",
       "        vertical-align: middle;\n",
       "    }\n",
       "\n",
       "    .dataframe tbody tr th {\n",
       "        vertical-align: top;\n",
       "    }\n",
       "\n",
       "    .dataframe thead th {\n",
       "        text-align: right;\n",
       "    }\n",
       "</style>\n",
       "<table border=\"1\" class=\"dataframe\">\n",
       "  <thead>\n",
       "    <tr style=\"text-align: right;\">\n",
       "      <th></th>\n",
       "      <th>species</th>\n",
       "      <th>contig</th>\n",
       "      <th>start</th>\n",
       "      <th>end</th>\n",
       "      <th>strand</th>\n",
       "      <th>e_val</th>\n",
       "      <th>seq</th>\n",
       "      <th>clade</th>\n",
       "      <th>aln</th>\n",
       "    </tr>\n",
       "  </thead>\n",
       "  <tbody>\n",
       "    <tr>\n",
       "      <th>384</th>\n",
       "      <td>Ogataea_trehaloabstinens</td>\n",
       "      <td>PPKJ01000007.1</td>\n",
       "      <td>363469</td>\n",
       "      <td>363514</td>\n",
       "      <td>+</td>\n",
       "      <td>3.400000e-17</td>\n",
       "      <td>TACTTACCTTGAGTGATCACAGGAGATCAAGAAGTCCTTGTGGTC</td>\n",
       "      <td>Pichiaceae</td>\n",
       "      <td>-UACUUACCUUGAGUGAUCAC-AGGAGAUCAAGAAGUCCUUGUGGUC</td>\n",
       "    </tr>\n",
       "    <tr>\n",
       "      <th>344</th>\n",
       "      <td>Ogataea_methylovora</td>\n",
       "      <td>PPKQ01000010.1</td>\n",
       "      <td>42160</td>\n",
       "      <td>42205</td>\n",
       "      <td>+</td>\n",
       "      <td>3.700000e-17</td>\n",
       "      <td>TACTTACCTTGAGTCATCACAGGAGATCAAGAAGTCCTTGTGATC</td>\n",
       "      <td>Pichiaceae</td>\n",
       "      <td>-UACUUACCUUGAGUCAUCAC-AGGAGAUCAAGAAGUCCUUGUGAUC</td>\n",
       "    </tr>\n",
       "    <tr>\n",
       "      <th>350</th>\n",
       "      <td>Ogataea_henricii</td>\n",
       "      <td>PPHT01000020.1</td>\n",
       "      <td>102448</td>\n",
       "      <td>102493</td>\n",
       "      <td>+</td>\n",
       "      <td>4.000000e-17</td>\n",
       "      <td>TACTTACCTTGAGGGATCACAGGAGATCAAGAAGTCCTTGTGGTC</td>\n",
       "      <td>Pichiaceae</td>\n",
       "      <td>-UACUUACCUUGAGGGAUCAC-AGGAGAUCAAGAAGUCCUUGUGGUC</td>\n",
       "    </tr>\n",
       "    <tr>\n",
       "      <th>368</th>\n",
       "      <td>Pachysolen_tannophilus</td>\n",
       "      <td>KV454017.1</td>\n",
       "      <td>285775</td>\n",
       "      <td>285820</td>\n",
       "      <td>+</td>\n",
       "      <td>6.200000e-17</td>\n",
       "      <td>TACTTACCTTGAGACGCCATAGGAGATCAAGAAGTCCTTATGGTC</td>\n",
       "      <td>CUG-Ala</td>\n",
       "      <td>-UACUUACCUUGAGACGCCAU-AGGAGAUCAAGAAGUCCUUAUGGUC</td>\n",
       "    </tr>\n",
       "    <tr>\n",
       "      <th>306</th>\n",
       "      <td>Peterozyma_xylosa</td>\n",
       "      <td>PPKF01000002.1</td>\n",
       "      <td>646472</td>\n",
       "      <td>646517</td>\n",
       "      <td>-</td>\n",
       "      <td>6.200000e-17</td>\n",
       "      <td>ATACTTACCTTGAGACGCCATAGGAGATCAAGAAGTCCTTATGGT</td>\n",
       "      <td>CUG-Ala</td>\n",
       "      <td>AUACUUACCUUGAGACGCCAU-AGGAGAUCAAGAAGUCCUUAUGGU-</td>\n",
       "    </tr>\n",
       "  </tbody>\n",
       "</table>\n",
       "</div>"
      ],
      "text/plain": [
       "                      species          contig   start     end strand  \\\n",
       "384  Ogataea_trehaloabstinens  PPKJ01000007.1  363469  363514      +   \n",
       "344       Ogataea_methylovora  PPKQ01000010.1   42160   42205      +   \n",
       "350          Ogataea_henricii  PPHT01000020.1  102448  102493      +   \n",
       "368    Pachysolen_tannophilus      KV454017.1  285775  285820      +   \n",
       "306         Peterozyma_xylosa  PPKF01000002.1  646472  646517      -   \n",
       "\n",
       "            e_val                                            seq       clade  \\\n",
       "384  3.400000e-17  TACTTACCTTGAGTGATCACAGGAGATCAAGAAGTCCTTGTGGTC  Pichiaceae   \n",
       "344  3.700000e-17  TACTTACCTTGAGTCATCACAGGAGATCAAGAAGTCCTTGTGATC  Pichiaceae   \n",
       "350  4.000000e-17  TACTTACCTTGAGGGATCACAGGAGATCAAGAAGTCCTTGTGGTC  Pichiaceae   \n",
       "368  6.200000e-17  TACTTACCTTGAGACGCCATAGGAGATCAAGAAGTCCTTATGGTC     CUG-Ala   \n",
       "306  6.200000e-17  ATACTTACCTTGAGACGCCATAGGAGATCAAGAAGTCCTTATGGT     CUG-Ala   \n",
       "\n",
       "                                                 aln  \n",
       "384  -UACUUACCUUGAGUGAUCAC-AGGAGAUCAAGAAGUCCUUGUGGUC  \n",
       "344  -UACUUACCUUGAGUCAUCAC-AGGAGAUCAAGAAGUCCUUGUGAUC  \n",
       "350  -UACUUACCUUGAGGGAUCAC-AGGAGAUCAAGAAGUCCUUGUGGUC  \n",
       "368  -UACUUACCUUGAGACGCCAU-AGGAGAUCAAGAAGUCCUUAUGGUC  \n",
       "306  AUACUUACCUUGAGACGCCAU-AGGAGAUCAAGAAGUCCUUAUGGU-  "
      ]
     },
     "execution_count": 10,
     "metadata": {},
     "output_type": "execute_result"
    }
   ],
   "source": [
    "aln_cons, aln = cm_align(\n",
    "    u1_aln_best_hit.set_index('species').seq.to_dict(), \n",
    "    '../../annotations/cms/u1_stem1.cm'\n",
    ")\n",
    "u1_aln_best_hit['aln'] = u1_aln_best_hit.species.map(aln)\n",
    "u1_aln_best_hit.head()"
   ]
  },
  {
   "cell_type": "code",
   "execution_count": 13,
   "metadata": {},
   "outputs": [],
   "source": [
    "with open(os.path.join(os.environ['TMPDIR'], 'u1_stem1.fa'), 'w') as f:\n",
    "    for sp, seq in u1_aln_best_hit.set_index('species').seq.to_dict().items():\n",
    "        f.write(f'>{sp}\\n{seq}\\n')"
   ]
  },
  {
   "cell_type": "code",
   "execution_count": 18,
   "metadata": {},
   "outputs": [
    {
     "name": "stdout",
     "output_type": "stream",
     "text": [
      "# R-scape :: RNA Structural Covariation Above Phylogenetic Expectation\n",
      "# R-scape 2.0.0.q elenarivas@fas.harvard.edu (February 2023)\n",
      "# Copyright (C) 2016-2019 Howard Hughes Medical Institute.\n",
      "# Freely distributed under the GNU General Public License (GPLv3).\n",
      "gnuplot not found. Some plots will not display\n",
      "#-------------------------------------------------------------------------------------------------------\n",
      "# MSA u1_stem1_aln nseq 236 (236) alen 47 (62) avgid 68.69 (68.19) nbpairs 11 (11)\n",
      "# One-set statistical test (all pairs are tested as equivalent) \n",
      "#\n",
      "#\n",
      "# Method Target_E-val [cov_min,cov_max] [FP | TP True Found | Sen PPV F] \n",
      "# GTp    0.05         [-9.95,229.91]     [0 | 7 11 7 | 63.64 100.00 77.78] \n",
      "#\n",
      "#       left_pos       right_pos        score          E-value           pvalue       substitutions      power\n",
      "#--------------------------------------------------------------------------------------------------------------\n",
      "*\t      22\t      57\t229.91242\t1.40805e-07\t1.30254e-10\t81\t\t0.94\n",
      "*\t      19\t      60\t207.12169\t1.17956e-06\t1.09118e-09\t62\t\t0.90\n",
      "*\t      21\t      58\t201.37864\t2.01642e-06\t1.86533e-09\t52\t\t0.87\n",
      "*\t      20\t      59\t153.10974\t0.000181963\t1.68329e-07\t29\t\t0.73\n",
      "*\t      27\t      55\t125.25582\t0.002458\t2.27382e-06\t79\t\t0.93\n",
      "*\t      26\t      56\t124.79929\t0.00257574\t2.38274e-06\t52\t\t0.87\n",
      "*\t      28\t      52\t113.47495\t0.00742068\t6.86464e-06\t43\t\t0.83\n",
      "\n",
      "# The given structure\n",
      "# SS_cons ::::::::::::::::<<<<<<---<<<<<___________________>>>-->>>>>>\n",
      "#\n",
      "# SS_cons >>\n",
      "#\n",
      "\n",
      "# Power analysis of given structure \n",
      "#\n",
      "# Powertype = SINGLE SUBSTITUTIONS\n",
      "# covary  left_pos      right_pos    substitutions      power\n",
      "#----------------------------------------------------------------\n",
      "          17\t\t62\t\t52\t\t0.87\n",
      "          18\t\t61\t\t29\t\t0.73\n",
      "     *    19\t\t60\t\t62\t\t0.90\n",
      "     *    20\t\t59\t\t29\t\t0.73\n",
      "     *    21\t\t58\t\t52\t\t0.87\n",
      "     *    22\t\t57\t\t81\t\t0.94\n",
      "     *    26\t\t56\t\t52\t\t0.87\n",
      "     *    27\t\t55\t\t79\t\t0.93\n",
      "     *    28\t\t52\t\t43\t\t0.83\n",
      "          29\t\t51\t\t18\t\t0.55\n",
      "          30\t\t50\t\t31\t\t0.75\n",
      "#\n",
      "# BPAIRS 11\n",
      "# avg substitutions per BP  48.0\n",
      "# BPAIRS expected to covary 9.0 +/- 1.2\n",
      "# BPAIRS observed to covary 7\n",
      "#\n",
      "# RMs = 1 L = 62\n",
      "\n",
      "# RM 17-30 50-62, nbp = 11 nbp_cov = 7\n",
      "# aggregated NONE\n",
      "NESTED  :::::::::::::::<<<<<<<<<<<__________>>>>>>>>>>>\n",
      "        :::::::::::::::::<<<<<<<______________>>>>>>>::\n",
      "# Number of covarying pairs = 7\n",
      "\n"
     ]
    }
   ],
   "source": [
    "%%bash\n",
    "\n",
    "cmsearch \\\n",
    "  -A ${TMPDIR}/u1_stem1_aln.sto \\\n",
    "  '../../annotations/cms/u1_stem1.cm' \\\n",
    "  ${TMPDIR}/u1_stem1.fa > /dev/null\n",
    "../../scripts/rscape_v2.0.0.q/bin/R-scape --outdir $TMPDIR --outname u1_stem1_aln ${TMPDIR}/u1_stem1_aln.sto"
   ]
  },
  {
   "cell_type": "code",
   "execution_count": 19,
   "metadata": {},
   "outputs": [],
   "source": [
    "!mv {os.path.join(os.environ['TMPDIR'], 'u1_stem1_aln.R2R.sto.svg')} {snakemake.output.svg}"
   ]
  },
  {
   "cell_type": "code",
   "execution_count": 33,
   "metadata": {},
   "outputs": [
    {
     "data": {
      "text/plain": [
       "<AxesSubplot:xlabel='aln', ylabel='count'>"
      ]
     },
     "execution_count": 33,
     "metadata": {},
     "output_type": "execute_result"
    },
    {
     "data": {
      "image/png": "[encoded data removed]",
      "text/plain": [
       "<Figure size 432x288 with 1 Axes>"
      ]
     },
     "metadata": {},
     "output_type": "display_data"
    }
   ],
   "source": [
    "sns.countplot(u1_aln_best_hit.aln.str[2:9])"
   ]
  },
  {
   "cell_type": "code",
   "execution_count": null,
   "metadata": {},
   "outputs": [],
   "source": []
  }
 ],
 "metadata": {
  "kernelspec": {
   "display_name": "Python [conda env:nb_bio]",
   "language": "python",
   "name": "conda-env-nb_bio-py"
  },
  "language_info": {
   "codemirror_mode": {
    "name": "ipython",
    "version": 3
   },
   "file_extension": ".py",
   "mimetype": "text/x-python",
   "name": "python",
   "nbconvert_exporter": "python",
   "pygments_lexer": "ipython3",
   "version": "3.6.7"
  }
 },
 "nbformat": 4,
 "nbformat_minor": 5
}

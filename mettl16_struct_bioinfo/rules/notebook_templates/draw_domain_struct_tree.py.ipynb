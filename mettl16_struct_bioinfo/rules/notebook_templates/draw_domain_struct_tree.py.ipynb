{
 "cells": [
  {
   "cell_type": "code",
   "execution_count": null,
   "metadata": {
    "tags": [
     "snakemake-job-properties"
    ]
   },
   "outputs": [],
   "source": [
    "\n",
    "######## snakemake preamble start (automatically inserted, do not edit) ########\n",
    "import sys; sys.path.extend(['/cluster/ggs_lab/mtparker/.conda/envs/snakemake6/lib/python3.10/site-packages', '/cluster/ggs_lab/mtparker/papers/splice_site_phylogenetics/mettl16_struct_bioinfo/rules/notebook_templates']); import pickle; snakemake = pickle.loads(b'\\x80\\x04\\x95\\x18\\x0b\\x00\\x00\\x00\\x00\\x00\\x00\\x8c\\x10snakemake.script\\x94\\x8c\\tSnakemake\\x94\\x93\\x94)\\x81\\x94}\\x94(\\x8c\\x05input\\x94\\x8c\\x0csnakemake.io\\x94\\x8c\\nInputFiles\\x94\\x93\\x94)\\x81\\x94(\\x8c#domains/eukaryota.doms_labelled.csv\\x94\\x8c\\x13trees/eukaryota.txt\\x94e}\\x94(\\x8c\\x06_names\\x94}\\x94(\\x8c\\rdoms_labelled\\x94K\\x00N\\x86\\x94\\x8c\\x04tree\\x94K\\x01N\\x86\\x94u\\x8c\\x12_allowed_overrides\\x94]\\x94(\\x8c\\x05index\\x94\\x8c\\x04sort\\x94eh\\x15\\x8c\\tfunctools\\x94\\x8c\\x07partial\\x94\\x93\\x94h\\x06\\x8c\\x19Namedlist._used_attribute\\x94\\x93\\x94\\x85\\x94R\\x94(h\\x1b)}\\x94\\x8c\\x05_name\\x94h\\x15sNt\\x94bh\\x16h\\x19h\\x1b\\x85\\x94R\\x94(h\\x1b)}\\x94h\\x1fh\\x16sNt\\x94bh\\x0fh\\nh\\x11h\\x0bub\\x8c\\x06output\\x94h\\x06\\x8c\\x0bOutputFiles\\x94\\x93\\x94)\\x81\\x94\\x8c(figures/eukaryota.domain_struct_tree.svg\\x94a}\\x94(h\\r}\\x94h\\x11K\\x00N\\x86\\x94sh\\x13]\\x94(h\\x15h\\x16eh\\x15h\\x19h\\x1b\\x85\\x94R\\x94(h\\x1b)}\\x94h\\x1fh\\x15sNt\\x94bh\\x16h\\x19h\\x1b\\x85\\x94R\\x94(h\\x1b)}\\x94h\\x1fh\\x16sNt\\x94bh\\x11h)ub\\x8c\\x06params\\x94h\\x06\\x8c\\x06Params\\x94\\x93\\x94)\\x81\\x94}\\x94(h\\r}\\x94h\\x13]\\x94(h\\x15h\\x16eh\\x15h\\x19h\\x1b\\x85\\x94R\\x94(h\\x1b)}\\x94h\\x1fh\\x15sNt\\x94bh\\x16h\\x19h\\x1b\\x85\\x94R\\x94(h\\x1b)}\\x94h\\x1fh\\x16sNt\\x94bub\\x8c\\twildcards\\x94h\\x06\\x8c\\tWildcards\\x94\\x93\\x94)\\x81\\x94\\x8c\\teukaryota\\x94a}\\x94(h\\r}\\x94\\x8c\\x04comp\\x94K\\x00N\\x86\\x94sh\\x13]\\x94(h\\x15h\\x16eh\\x15h\\x19h\\x1b\\x85\\x94R\\x94(h\\x1b)}\\x94h\\x1fh\\x15sNt\\x94bh\\x16h\\x19h\\x1b\\x85\\x94R\\x94(h\\x1b)}\\x94h\\x1fh\\x16sNt\\x94b\\x8c\\x04comp\\x94hIub\\x8c\\x07threads\\x94K\\x01\\x8c\\tresources\\x94h\\x06\\x8c\\tResources\\x94\\x93\\x94)\\x81\\x94(K\\x01K\\x01\\x8c\\x14/tmp/1177644.1.all.q\\x94e}\\x94(h\\r}\\x94(\\x8c\\x06_cores\\x94K\\x00N\\x86\\x94\\x8c\\x06_nodes\\x94K\\x01N\\x86\\x94\\x8c\\x06tmpdir\\x94K\\x02N\\x86\\x94uh\\x13]\\x94(h\\x15h\\x16eh\\x15h\\x19h\\x1b\\x85\\x94R\\x94(h\\x1b)}\\x94h\\x1fh\\x15sNt\\x94bh\\x16h\\x19h\\x1b\\x85\\x94R\\x94(h\\x1b)}\\x94h\\x1fh\\x16sNt\\x94bh`K\\x01hbK\\x01hdh]ub\\x8c\\x03log\\x94h\\x06\\x8c\\x03Log\\x94\\x93\\x94)\\x81\\x94\\x8c=notebook_processed/draw_domain_struct_tree.eukaryota.py.ipynb\\x94a}\\x94(h\\r}\\x94\\x8c\\x08notebook\\x94K\\x00N\\x86\\x94sh\\x13]\\x94(h\\x15h\\x16eh\\x15h\\x19h\\x1b\\x85\\x94R\\x94(h\\x1b)}\\x94h\\x1fh\\x15sNt\\x94bh\\x16h\\x19h\\x1b\\x85\\x94R\\x94(h\\x1b)}\\x94h\\x1fh\\x16sNt\\x94bhvhsub\\x8c\\x06config\\x94}\\x94(\\x8c\\x05comps\\x94}\\x94(\\x8c\\teukaryota\\x94}\\x94(\\x8c\\x1bAureococcus_anophagefferens\\x94\\x8c\\x0caano_mettl16\\x94\\x8c\\x14Aspergillus_nidulans\\x94\\x8c\\x0canid_mettl16\\x94\\x8c\\x14Arabidopsis_thaliana\\x94\\x8c\\x0carath_fiona1\\x94\\x8c\\x16Caenorhabditis_elegans\\x94\\x8c\\x0bcele_mett10\\x94\\x8c\\x17Cryptococcus_neoformans\\x94\\x8c\\x0ccneo_mettl16\\x94\\x8c\\x16Cryptosporidium_parvum\\x94\\x8c\\x0ccpar_mettl16\\x94\\x8c\\x19Chlamydomonas_reinhardtii\\x94\\x8c\\x0ccrei_mettl16\\x94\\x8c\\x18Dictyostelium_discoideum\\x94\\x8c\\x0cddis_mettl16\\x94\\x8c\\x17Drosophila_melanogaster\\x94\\x8c\\x0cdmel_mettl16\\x94\\x8c\\x0bDanio_rerio\\x94\\x8c\\x0cdrer_mettl16\\x94\\x8c\\rGallus_gallus\\x94\\x8c\\x0cggal_mettl16\\x94\\x8c\\x15Galdieria_sulphuraria\\x94\\x8c\\x0cgsul_mettl16\\x94\\x8c\\x0cHomo_sapiens\\x94\\x8c\\x0chsap_mettl16\\x94\\x8c\\x12Lipomyces_starkeyi\\x94\\x8c\\x0clsta_mettl16\\x94\\x8c\\x15Marchantia_polymorpha\\x94\\x8c\\x0cmpol_mettl16\\x94\\x8c\\x11Neurospora_crassa\\x94\\x8c\\x0cncra_mettl16\\x94\\x8c\\x0cOryza_sativa\\x94\\x8c\\x0cosat_mettl16\\x94\\x8c\\x12Ostreococcus_tauri\\x94\\x8c\\x0cotau_mettl16\\x94\\x8c\\x15Plasmodium_falciparum\\x94\\x8c\\x0cpfal_mettl16\\x94\\x8c\\x16Phytophthora_infestans\\x94\\x8c\\x0cpinf_mettl16\\x94\\x8c\\x16Pneumocystis_jirovecii\\x94\\x8c\\x0cpjir_mettl16\\x94\\x8c\\x14Physcomitrium_patens\\x94\\x8c\\x0cppat_mettl16\\x94\\x8c\\x16Paramecium_tetraurelia\\x94\\x8c\\x0cptet_mettl16\\x94\\x8c\\x19Schizosaccharomyces_pombe\\x94\\x8c\\x0bspomb_mtl16\\x94\\x8c\\x11Toxoplasma_gondii\\x94\\x8c\\x0ctgon_mettl16\\x94\\x8c\\x18Thalassiosira_pseudonana\\x94\\x8c\\rtpseu_mettl16\\x94\\x8c\\x14Trichoplax_adhaerens\\x94\\x8c\\rtriad_mettl16\\x94\\x8c\\x0fUstilago_maydis\\x94\\x8c\\x0cumay_mettl16\\x94\\x8c\\x13Yarrowia_lipolytica\\x94\\x8c\\x0cylip_mettl16\\x94u\\x8c\\x10saccharomycotina\\x94}\\x94(\\x8c\\x16Caenorhabditis_elegans\\x94\\x8c\\x0bcele_mett10\\x94\\x8c\\x17Cryptococcus_neoformans\\x94\\x8c\\x0ccneo_mettl16\\x94\\x8c\\x18Eremothecium_cymbalariae\\x94\\x8c\\x0cecym_mettl16\\x94\\x8c\\x15Eremothecium_gossypii\\x94\\x8c\\x0cegos_mettl16\\x94\\x8c\\x0cHomo_sapiens\\x94\\x8c\\x0chsap_mettl16\\x94\\x8c\\x19Schizosaccharomyces_pombe\\x94\\x8c\\x0bspomb_mtl16\\x94\\x8c\\x1cZygosaccharomyces_parabailli\\x94\\x8c\\x0czpba_mettl16\\x94uu\\x8c\\x19reference_xray_structures\\x94}\\x94(\\x8c\\x03mtd\\x94\\x8c\\x15hsap_mettl16_mtd_xray\\x94\\x8c\\x03vcr\\x94\\x8c\\x15hsap_mettl16_vcr_xray\\x94\\x8c\\x03ka1\\x94\\x8c\\x12hsap_tut1_ka1_xray\\x94uu\\x8c\\x04rule\\x94\\x8c\\x17draw_domain_struct_tree\\x94\\x8c\\x0fbench_iteration\\x94N\\x8c\\tscriptdir\\x94\\x8cj/cluster/ggs_lab/mtparker/papers/splice_site_phylogenetics/mettl16_struct_bioinfo/rules/notebook_templates\\x94ub.'); from snakemake.logging import logger; logger.printshellcmds = False; import os; os.chdir(r'/cluster/ggs_lab/mtparker/papers/splice_site_phylogenetics/mettl16_struct_bioinfo/pipeline');\n",
    "######## snakemake preamble end #########\n"
   ]
  },
  {
   "cell_type": "code",
   "execution_count": null,
   "metadata": {},
   "outputs": [],
   "source": [
    "import os\n",
    "import shutil\n",
    "import re\n",
    "from glob import glob\n",
    "import itertools as it\n",
    "import tempfile\n",
    "import warnings\n",
    "import subprocess as sp\n",
    "\n",
    "import numpy as np\n",
    "import pandas as pd\n",
    "from scipy import stats\n",
    "\n",
    "import matplotlib.pyplot as plt\n",
    "from matplotlib import patches\n",
    "from matplotlib.colors import ListedColormap, LinearSegmentedColormap\n",
    "import seaborn as sns\n",
    "\n",
    "import ete3\n",
    "os.environ['QT_QPA_PLATFORM']='offscreen'\n",
    "from Bio import PDB as pdb\n",
    "\n",
    "## Default plotting params\n",
    "%matplotlib inline\n",
    "sns.set(font='Arial')\n",
    "plt.rcParams['svg.fonttype'] = 'none'\n",
    "style = sns.axes_style('white')\n",
    "style.update(sns.axes_style('ticks'))\n",
    "style['xtick.major.size'] = 2\n",
    "style['ytick.major.size'] = 2\n",
    "sns.set(font_scale=1.2, style=style)\n",
    "pal = sns.color_palette(['#0072b2', '#d55e00', '#009e73', '#f0e442', '#cc79a7', '#56b4e9', '#e69f00'])\n",
    "cmap = ListedColormap(pal.as_hex())\n",
    "sns.set_palette(pal)\n",
    "sns.palplot(pal)\n",
    "plt.show()"
   ]
  },
  {
   "cell_type": "code",
   "execution_count": null,
   "metadata": {},
   "outputs": [],
   "source": [
    "doms = pd.read_csv(snakemake.input.doms_labelled, index_col=0).dropna(subset=['pdb_fn'])\n",
    "pdb_fns = doms.set_index('species').pdb_fn.to_dict()\n",
    "clusters = doms.set_index('dom_name').cluster.to_dict()"
   ]
  },
  {
   "cell_type": "code",
   "execution_count": null,
   "metadata": {},
   "outputs": [],
   "source": [
    "tree = ete3.Tree(snakemake.input.tree)\n",
    "tree.convert_to_ultrametric(10)\n",
    "\n",
    "def ultrametric_layout(node):\n",
    "    node.img_style[\"size\"]=0\n",
    "    node.img_style[\"vt_line_width\"]=0\n",
    "\n",
    "\n",
    "def get_seq(pdb_fn):\n",
    "    struct = pdb.PDBParser().get_structure('struct', pdb_fn)\n",
    "    pp = pdb.Polypeptide.PPBuilder()\n",
    "    seq = str(pp.build_peptides(struct)[0].get_sequence())\n",
    "    return seq\n",
    "\n",
    "\n",
    "COLORS = {\n",
    "    'mtd': pal.as_hex()[0],\n",
    "    'vcr': pal.as_hex()[1],\n",
    "    'mtd_vcr': pal.as_hex()[2]\n",
    "}\n",
    "\n",
    "max_len = 0\n",
    "\n",
    "for node in tree.get_leaves():\n",
    "    species_name = node.name\n",
    "    pdb_fn = pdb_fns.get(species_name, None)\n",
    "    if pdb_fn is None:\n",
    "        seqface = ete3.TextFace('Absent')\n",
    "    else:\n",
    "        seq = get_seq(pdb_fn)\n",
    "        if len(seq) > max_len:\n",
    "            max_len = len(seq)\n",
    "        sp_doms = doms.query('species == @species_name')\n",
    "        sp_motifs = []\n",
    "        for d in sp_doms.itertuples():\n",
    "            cl = clusters[d.dom_name]\n",
    "            for s, e in eval(d.dom_invs):\n",
    "                sp_motifs.append([s, e, '[]', None, 10, COLORS[cl], COLORS[cl], None])\n",
    "        seqface = ete3.SeqMotifFace(seq, motifs=sp_motifs, height=5)\n",
    "    node.add_face(seqface, 0, 'aligned')\n",
    "\n",
    "# need this to manually add scale bar to protein sequences (doesn't seem to be a way to do it in ete3)\n",
    "print(max_len)\n",
    "ts = ete3.TreeStyle()\n",
    "ts.show_leaf_name = True\n",
    "\n",
    "tree.render(snakemake.output.tree, tree_style=ts, layout=ultrametric_layout)\n",
    "tree.render(\"%%inline\", tree_style=ts, layout=ultrametric_layout)"
   ]
  },
  {
   "cell_type": "code",
   "execution_count": null,
   "metadata": {},
   "outputs": [],
   "source": []
  }
 ],
 "metadata": {
  "kernelspec": {
   "display_name": "Python 3",
   "language": "python",
   "name": "python3"
  },
  "language_info": {
   "codemirror_mode": {
    "name": "ipython",
    "version": 3
   },
   "file_extension": ".py",
   "mimetype": "text/x-python",
   "name": "python",
   "nbconvert_exporter": "python",
   "pygments_lexer": "ipython3",
   "version": "3.7.8"
  }
 },
 "nbformat": 4,
 "nbformat_minor": 5
}
